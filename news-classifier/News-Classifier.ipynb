{
 "cells": [
  {
   "cell_type": "markdown",
   "metadata": {},
   "source": [
    "# Classificador de notícias"
   ]
  },
  {
   "cell_type": "code",
   "execution_count": 1,
   "metadata": {
    "collapsed": true
   },
   "outputs": [],
   "source": [
    "%matplotlib inline\n",
    "import numpy as np\n",
    "import pandas as pd\n",
    "import math\n",
    "import re\n",
    "import matplotlib.pyplot as plt\n",
    "from lxml import etree as et\n",
    "\n",
    "#Imports nltk ---------------------------------------------\n",
    "import nltk\n",
    "from nltk.stem.snowball import SnowballStemmer\n",
    "\n",
    "#Imports sklearn ------------------------------------------\n",
    "\n",
    "#tfidf\n",
    "from sklearn.feature_extraction.text import TfidfTransformer\n",
    "from sklearn.feature_extraction.text import CountVectorizer\n",
    "\n",
    "#naive bayes\n",
    "from sklearn.naive_bayes import GaussianNB\n",
    "from sklearn.naive_bayes import MultinomialNB\n",
    "from sklearn.naive_bayes import BernoulliNB\n",
    "\n",
    "#regressão logística\n",
    "from sklearn.linear_model import LogisticRegression\n",
    "\n",
    "#knn\n",
    "from sklearn.neighbors import KNeighborsClassifier"
   ]
  },
  {
   "cell_type": "markdown",
   "metadata": {},
   "source": [
    "### Importando stopwords e stemmer"
   ]
  },
  {
   "cell_type": "code",
   "execution_count": 2,
   "metadata": {
    "collapsed": true
   },
   "outputs": [],
   "source": [
    "stemmer = SnowballStemmer('portuguese')\n",
    "stopwords = nltk.corpus.stopwords.words('portuguese')"
   ]
  },
  {
   "cell_type": "markdown",
   "metadata": {},
   "source": [
    "### Importando notícias"
   ]
  },
  {
   "cell_type": "code",
   "execution_count": 3,
   "metadata": {},
   "outputs": [
    {
     "name": "stdout",
     "output_type": "stream",
     "text": [
      "Total de notícias: 2109\n",
      "Noticias para classificação: 1958\n"
     ]
    },
    {
     "data": {
      "image/png": "[encoded data removed]",
      "text/plain": [
       "<matplotlib.figure.Figure at 0x11ae7c6a0>"
      ]
     },
     "metadata": {},
     "output_type": "display_data"
    },
    {
     "name": "stdout",
     "output_type": "stream",
     "text": [
      "title: 2109 ocorrências\n",
      "link: 2109 ocorrências\n",
      "pubDate: 1610 ocorrências\n",
      "description: 1341 ocorrências\n",
      "image: 2109 ocorrências\n",
      "text: 1667 ocorrências\n",
      "when: 2109 ocorrências\n"
     ]
    },
    {
     "data": {
      "image/png": "[encoded data removed]",
      "text/plain": [
       "<matplotlib.figure.Figure at 0x11e2f38d0>"
      ]
     },
     "metadata": {},
     "output_type": "display_data"
    }
   ],
   "source": [
    "parser = et.XMLParser(recover=True)\n",
    "data = et.parse(\"news_data.xml\", parser=parser).getroot()\n",
    "\n",
    "tags = [\"title\",\"link\",\"pubDate\",\"description\",\"image\",\"text\",\"when\"]\n",
    "hist = {}\n",
    "for t in tags:\n",
    "    hist[t] = 0;\n",
    "    \n",
    "items = data.findall(\"item\")\n",
    "total = len(items)\n",
    "news = []\n",
    "labels = []\n",
    "\n",
    "for c in items:\n",
    "    aux = \"\"\n",
    "    text = c.find(\"text\").text\n",
    "    desc = c.find(\"description\").text\n",
    "    if not text == None:\n",
    "        aux += text\n",
    "    if not desc == None:\n",
    "        aux += desc\n",
    "    if aux!=\"\":\n",
    "        news.append(aux)\n",
    "        labels.append(c.get(\"category\"))\n",
    "        \n",
    "    for t in tags:\n",
    "        if c.find(t).text != None:\n",
    "            hist[t] += 1\n",
    "\n",
    "print(\"Total de notícias: {}\".format(total))\n",
    "print(\"Noticias para classificação: {}\".format(len(news)))\n",
    "\n",
    "plt.bar(range(len(hist)),hist.values(),align='center')\n",
    "plt.xticks(range(len(hist)),hist.keys())\n",
    "plt.show()\n",
    "\n",
    "df = pd.DataFrame({\"category\":labels})\n",
    "fig = plt.figure(figsize=(10,6))\n",
    "plt.title(\"Ocorrências das categorias\")\n",
    "df[\"category\"].value_counts().plot(kind=\"bar\")\n",
    "\n",
    "for k in hist.keys():\n",
    "    print(\"{}: {} ocorrências\".format(k,hist[k]))"
   ]
  },
  {
   "cell_type": "markdown",
   "metadata": {},
   "source": [
    "## Análise dos atributos das notícias\n",
    "\n",
    "Através do histograma acima, podemos analizar que todas as notícias possuem data(when), link, imagem e título.\n",
    "\n",
    "* Imagem e link não são interpretáveis para o nosso problema, logo não compensa que coloquemos estes atributos em nosso classificador;\n",
    "* Data(when) e data de publicação, embora sejam interpretáveis, é provável que não acrescentem nenhuma informação relevante para nossa classificação;\n",
    "* Texto, título e descrição podem ser bastante úteis em nosso problema, embora o título, devido a sua natureza mais interativa para chamar a atenção, possa atrapalhar nos cálculos, portanto, colocaremos ele de fora da classificação."
   ]
  },
  {
   "cell_type": "markdown",
   "metadata": {},
   "source": [
    "## Iniciando pré-processamento\n",
    "\n",
    "### Processando notícias"
   ]
  },
  {
   "cell_type": "code",
   "execution_count": 4,
   "metadata": {},
   "outputs": [
    {
     "data": {
      "text/plain": [
       "'A rodada deste fim de semana ainda não confirmou o título do Corinthians, que segue com mais de 99% de chance de conquista, contra menos de 1% do Atlético Mineiro segundo o site Infobola, do matemático Tristão Garcia. Para o Galo, o triunfo sofre o Figueirense, com um gol no finzinho, além de manter a chance matemática de título para os mineiros, também confirmou o time com uma das vagas para a Libertadores. Para as vagas que restam para a competição sul-americana, o Grêmio, embora derrotado pelo Sport, segue bem tranquilo. Só uma catástrofe tira o time gaúcho da vaga 3 e por isso suas chances estão em 96%. Daí para a frente, a coisa embola um pouco. A rodada fez o leque de possibilidades se ampliar. Um exemplo é que o Flamengo saiu do traço e voltou a ter uma pequena chance após a sua vitória e os resultados dos rivais. Afinal, quem estava bem à frente não venceu. Santos, São Paulo e Internacional seguem bem cotados. O Sport (que tem uma tabela bem complicada e por isso está com apenas 7%) precisa de mais um bom resultado na próxima rodada para se aproximar da trinca. Ponte Preta, Palmeiras, Cruzeiro e o Rubro-Negro (que respira graças ao seu bom número de vitórias que lhe dará vantagem caso empate em pontos contra qualquer um dos demais concorrentes) respiram por aparelho. Na turma que tenta escapar da degola, o Vasco segue construindo notável reação. Embora ainda apareça com 84% de possibilidade de rebaixamento, o Cruz-Maltino conseguiu resultado pouco esperado, a vitória sobre o Palmeiras fora de casa, e pode dar um supersalto rumo à salvação já na próxima rodada quando ocorrem dois jogos de rivais diretos pelo rebaixamento: Goiás x Coritiba e Avaí x Joinville. Olho vivo no Figueirense. A série de resultados ruins fez o time encostar muito no bolo dos desesperados. Já a Chapecoense, com a vitória sobre o Fluminense, se despediu dessa briga.'"
      ]
     },
     "execution_count": 4,
     "metadata": {},
     "output_type": "execute_result"
    }
   ],
   "source": [
    "news[0]"
   ]
  },
  {
   "cell_type": "code",
   "execution_count": 5,
   "metadata": {},
   "outputs": [],
   "source": [
    "#Removendo stopwords,\"tokenizando\", aplicando stemmer e removendo caracteres indesejáveis\n",
    "undesired = [',','.',\"'\",'\"','´',';',':','-','?','!','%','(',')','\\t','\\n']\n",
    "data_processed = []\n",
    "for k in news:\n",
    "    tokenizedText = nltk.word_tokenize(k,language='portuguese')\n",
    "    stemmedText = [stemmer.stem(t) for t in tokenizedText if t not in stopwords and not t in undesired]\n",
    "    data_processed.append(stemmedText)"
   ]
  },
  {
   "cell_type": "code",
   "execution_count": 6,
   "metadata": {},
   "outputs": [
    {
     "data": {
      "text/plain": [
       "'a rod dest fim seman aind confirm títul corinthians seg 99 chanc conquist contr men 1 atlét mineir segund sit infobol matemát tristã garc par gal triunf sofr figueirens gol finzinh além mant chanc matemát títul mineir confirm tim vag libert par vag rest competiçã sul-american grêmi embor derrot sport seg bem tranquil só catástrof tir tim gaúch vag 3 chanc 96 daí frent cois embol pouc a rod fez lequ possibil ampli um exempl é flameng saiu trac volt ter pequen chanc após vitór result riv afinal bem frent venc sant sã paul internacional segu bem cot o sport tabel bem complic apen 7 precis bom result próxim rod aproxim trinc pont pret palmeir cruzeir rubro-negr resp grac bom númer vitór dar vantag cas empat pont contr qualqu dem concorrent resp aparelh na turm tent escap degol vasc seg constru notável reaçã embor aind aparec 84 possibil rebaix cruz-maltin consegu result pouc esper vitór sobr palmeir cas pod dar supersalt rum salvaçã próxim rod ocorr dois jog riv diret rebaix goiás x coritib ava x joinvill olho viv figueirens a séri result ruins fez tim encost bol desesper já chapecoens vitór sobr fluminens desped dess brig'"
      ]
     },
     "execution_count": 6,
     "metadata": {},
     "output_type": "execute_result"
    }
   ],
   "source": [
    "#Reescrevendo noticias\n",
    "new_data = []\n",
    "for data in data_processed:\n",
    "    new_data.append(\" \".join(data))\n",
    "\n",
    "data_processed = new_data\n",
    "\n",
    "data_processed[0]"
   ]
  },
  {
   "cell_type": "markdown",
   "metadata": {},
   "source": [
    "## Iniciando classificação"
   ]
  },
  {
   "cell_type": "markdown",
   "metadata": {},
   "source": [
    "### Preparando dados para classificação"
   ]
  },
  {
   "cell_type": "code",
   "execution_count": 7,
   "metadata": {
    "collapsed": true
   },
   "outputs": [],
   "source": [
    "#Permutação dos dados\n",
    "temp = np.column_stack((data_processed,labels))\n",
    "temp = np.random.permutation(temp)\n",
    "data_processed = temp[:,0]\n",
    "labels = temp[:,1]"
   ]
  },
  {
   "cell_type": "markdown",
   "metadata": {},
   "source": [
    "### Gerando matrizes dos dados"
   ]
  },
  {
   "cell_type": "code",
   "execution_count": 8,
   "metadata": {
    "collapsed": true
   },
   "outputs": [],
   "source": [
    "cv = CountVectorizer()\n",
    "\n",
    "X_counts = cv.fit_transform(data_processed)\n",
    "tf_transformer = TfidfTransformer(use_idf=True).fit(X_counts)\n",
    "text_tf = tf_transformer.transform(X_counts)"
   ]
  },
  {
   "cell_type": "markdown",
   "metadata": {},
   "source": [
    "### Separando features de treino e teste"
   ]
  },
  {
   "cell_type": "code",
   "execution_count": 9,
   "metadata": {},
   "outputs": [],
   "source": [
    "#Separação das labels de treino e teste\n",
    "p = 0.8\n",
    "size = len(data_processed)\n",
    "partition = math.floor(size*p)\n",
    "\n",
    "trainLabels = labels[:partition]\n",
    "trainText = text_tf[:partition]\n",
    "\n",
    "testText = text_tf[partition:]\n",
    "testLabels = labels[partition:]"
   ]
  },
  {
   "cell_type": "markdown",
   "metadata": {},
   "source": [
    "### Classificando"
   ]
  },
  {
   "cell_type": "code",
   "execution_count": 10,
   "metadata": {},
   "outputs": [
    {
     "name": "stdout",
     "output_type": "stream",
     "text": [
      "Multinomial: 59.44% de precisão\n",
      "Gaussian: 73.47% de precisão\n",
      "Bernoulli: 69.64% de precisão\n",
      "Regressão: 71.68% de precisão\n",
      "KNN: 76.02% de precisão\n"
     ]
    }
   ],
   "source": [
    "clf_multinomial = MultinomialNB().fit(trainText, trainLabels)\n",
    "print(\"Multinomial: {0:.2f}% de precisão\".format(clf_multinomial.score(testText,testLabels)*100))\n",
    "\n",
    "clf_gaussian = GaussianNB().fit(trainText.toarray(), trainLabels)\n",
    "print(\"Gaussian: {0:.2f}% de precisão\".format(clf_gaussian.score(testText.toarray(),testLabels)*100))\n",
    "\n",
    "clf_bernouli = BernoulliNB().fit(trainText.toarray(), trainLabels)\n",
    "print(\"Bernoulli: {0:.2f}% de precisão\".format(clf_bernouli.score(testText.toarray(),testLabels)*100))\n",
    "\n",
    "clf_logistic = LogisticRegression().fit(trainText.toarray(), trainLabels)\n",
    "print(\"Regressão: {0:.2f}% de precisão\".format(clf_logistic.score(testText.toarray(),testLabels)*100))\n",
    "\n",
    "clf_knn = KNeighborsClassifier(n_neighbors=7).fit(trainText.toarray(), trainLabels)\n",
    "print(\"KNN: {0:.2f}% de precisão\".format(clf_knn.score(testText.toarray(),testLabels)*100))"
   ]
  },
  {
   "cell_type": "code",
   "execution_count": 11,
   "metadata": {
    "collapsed": true
   },
   "outputs": [],
   "source": [
    "def process_new(new):\n",
    "    tokenizedText = nltk.word_tokenize(new)\n",
    "    stemmedText = [stemmer.stem(t) for t in tokenizedText if t not in stopwords]\n",
    "\n",
    "    text = [word for word in stemmedText if not word in undesired]\n",
    "    text = \" \".join(text)\n",
    "    cv_text = cv.transform([text])\n",
    "    \n",
    "    return tf_transformer.transform(cv_text)\n",
    "\n",
    "def classify_new(new):\n",
    "    processed_new = process_new(new)\n",
    "    \n",
    "    print(\"Multinomial: {}\".format(clf_multinomial.predict(processed_new)))\n",
    "    print(\"Bernouli: {}\".format(clf_bernouli.predict(processed_new)))\n",
    "    print(\"Gaussian: {}\".format(clf_gaussian.predict(processed_new.toarray())))\n",
    "    print(\"Logistic: {}\".format(clf_logistic.predict(processed_new.toarray())))\n",
    "    print(\"KNN: {}\".format(clf_knn.predict(processed_new.toarray())))"
   ]
  },
  {
   "cell_type": "markdown",
   "metadata": {},
   "source": [
    "### Teste com uma notícia"
   ]
  },
  {
   "cell_type": "code",
   "execution_count": 12,
   "metadata": {},
   "outputs": [
    {
     "name": "stdout",
     "output_type": "stream",
     "text": [
      "Multinomial: ['esporte']\n",
      "Bernouli: ['esporte']\n",
      "Gaussian: ['esporte']\n",
      "Logistic: ['esporte']\n",
      "KNN: ['esporte']\n"
     ]
    }
   ],
   "source": [
    "new = \"A rodada deste fim de semana ainda não confirmou o título do Corinthians, que segue com mais de 99% de chance de conquista, contra menos de 1% do Atlético Mineiro segundo o site Infobola, do matemático Tristão Garcia. Para o Galo, o triunfo sofre o Figueirense, com um gol no finzinho, além de manter a chance matemática de título para os mineiros, também confirmou o time com uma das vagas para a Libertadores. Para as vagas que restam para a competição sul-americana, o Grêmio, embora derrotado pelo Sport, segue bem tranquilo. Só uma catástrofe tira o time gaúcho da vaga 3 e por isso suas chances estão em 96%. Daí para a frente, a coisa embola um pouco. A rodada fez o leque de possibilidades se ampliar. Um exemplo é que o Flamengo saiu do traço e voltou a ter uma pequena chance após a sua vitória e os resultados dos rivais. Afinal, quem estava bem à frente não venceu. Santos, São Paulo e Internacional seguem bem cotados. O Sport (que tem uma tabela bem complicada e por isso está com apenas 7%) precisa de mais um bom resultado na próxima rodada para se aproximar da trinca. Ponte Preta, Palmeiras, Cruzeiro e o Rubro-Negro (que respira graças ao seu bom número de vitórias que lhe dará vantagem caso empate em pontos contra qualquer um dos demais concorrentes) respiram por aparelho. Na turma que tenta escapar da degola, o Vasco segue construindo notável reação. Embora ainda apareça com 84% de possibilidade de rebaixamento, o Cruz-Maltino conseguiu resultado pouco esperado, a vitória sobre o Palmeiras fora de casa, e pode dar um supersalto rumo à salvação já na próxima rodada quando ocorrem dois jogos de rivais diretos pelo rebaixamento: Goiás x Coritiba e Avaí x Joinville. Olho vivo no Figueirense. A série de resultados ruins fez o time encostar muito no bolo dos desesperados. Já a Chapecoense, com a vitória sobre o Fluminense, se despediu dessa briga.\"\n",
    "\n",
    "classify_new(new)"
   ]
  },
  {
   "cell_type": "markdown",
   "metadata": {},
   "source": [
    "### Quem sabe faz ao vivo!"
   ]
  },
  {
   "cell_type": "code",
   "execution_count": 19,
   "metadata": {},
   "outputs": [
    {
     "name": "stdout",
     "output_type": "stream",
     "text": [
      "Multinomial: ['economia']\n",
      "Bernouli: ['economia']\n",
      "Gaussian: ['economia']\n",
      "Logistic: ['economia']\n",
      "KNN: ['economia']\n"
     ]
    }
   ],
   "source": [
    "new = \"\"\"\n",
    "Raí chamou a responsabilidade pelo momento ruim do São Paulo no Campeonato Brasileiro. Em entrevista concedita nesta terça-feira, no CT, o diretor executivo de futebol apoiou o técnico Diego Aguirre, disse que uma eventual demissão sequer está em pauta e pediu para a torcida continuar acreditando na equipe.\n",
    "\n",
    "O São Paulo era o líder do Brasileirão no fim do primeiro turno, mas terminou a 29ª rodada na quarta posição, com 52 pontos, sete atrás do Palmeiras, atual primeiro colocado.\n",
    "\n",
    "– Sobre o trabalho do Aguirre, o resultado fala. Não o resultado imediato, mas desde que ele chegou aqui. Onde pegou o time, como estava e onde chegou. Isso não está nem em pauta. Acreditamos no trabalho dele, no trabalho do grupo. É o treinador que soube mexer com esse grupo várias vezes, não só quando chegou, outras vezes, para fazer o time melhor. Em um momento ruim, normal em uma temporada, ele e sua comissão vão saber como mexer com o grupo – disse Raí.\n",
    "\n",
    "Raí é o executivo de futebol do São Paulo — Foto: Rubens Chiri/saopaulofc.net Raí é o executivo de futebol do São Paulo — Foto: Rubens Chiri/saopaulofc.net\n",
    "\n",
    "A renovação de contrato de Aguirre, por outro lado, é um assunto a ser discutido no fim do ano. Há alguns meses, durante a boa fase no Brasileirão, o São Paulo procurou o treinador, pois queria iniciar a negociação para aumentar o vínculo válido até dezembro. O uruguaio preferiu adiar a conversa.\n",
    "\n",
    "Agora, com o time em baixa, a negociação também não será realizada. A avaliação do São Paulo é de que não se pode adotar extremos: nem na fase boa Aguirre era gênio e agora na fase ruim também não é o pior treinador do mundo. De qualquer maneira, o Tricolor não terá a concorrência da seleção uruguaia, pois Óscar Tabárez renovou com a Celeste.\n",
    "\n",
    "Raí não apontou um único motivo para explicar a queda de rendimento do São Paulo no Brasileirão. Internamente, o desfalque de Everton, com estiramento na coxa esquerda, é citado como uma das principais razões.\n",
    "\n",
    "– No momento desafiador, e já passei por vários na minha carreira como jogador e estou passando por um agora, você tem de pensar em todos os detalhes. Quando as coisas estão dando certo, tudo sai mais fácil. Quando não estão dando certo, tem de pensar em todos os detalhes e cada um melhorar um pouco mais: os jogadores, a comissão técnica, a diretoria. Eu sou o maior responsável disso, da situação hoje em dia, e continuo confiante. Melhorando o trabalho, o que você acha que pode melhorar, vai recuperando a confiança. Com os resultados, as coisas voltam ao normal – afirmou.\n",
    "\n",
    "O executivo do São Paulo também descartou um possível racha no elenco ou uma eventual perda de comando de Aguirre no vestiário.\n",
    "\n",
    "– Este é um dos melhores grupos com que eu já trabalhei, em ambiente de grupo, e todo mundo festejou isso quando a gente estava bem, na liderança. O grupo é bom e continua bom. Isso não está em pauta, porque a gente confia no grupo. Com alguns maus resultados e atuações não tão boas, a confiança foi atingida, e a gente precisa recupera isso, trabalhando aqui dentro e contando com a colaboração da torcida. O time chegou a um estágio muito bom de rendimento, resultado, chegou a ser líder... Só peço que a torcida continue acreditando que vamos terminar o campeonato em uma boa colocação – completou Raí.\n",
    "\n",
    "No próximo sábado, às 19h (de Brasília), o São Paulo recebe o Atlético-PR no Morumbi.\n",
    "\"\"\"\n",
    "\n",
    "classify_new(new)"
   ]
  }
 ],
 "metadata": {
  "kernelspec": {
   "display_name": "Python 3",
   "language": "python",
   "name": "python3"
  },
  "language_info": {
   "codemirror_mode": {
    "name": "ipython",
    "version": 3
   },
   "file_extension": ".py",
   "mimetype": "text/x-python",
   "name": "python",
   "nbconvert_exporter": "python",
   "pygments_lexer": "ipython3",
   "version": "3.6.1"
  }
 },
 "nbformat": 4,
 "nbformat_minor": 1
}
