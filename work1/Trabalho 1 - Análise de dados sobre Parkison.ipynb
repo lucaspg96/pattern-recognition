{
 "cells": [
  {
   "cell_type": "markdown",
   "metadata": {},
   "source": [
    "**Aluno**: Lucas Peres Gaspar\n",
    "\n",
    "**Matrícula**: 409504\n",
    "\n",
    "**Nível**: Mestrando\n",
    "\n",
    "**Programa**: Mestrado e Doutorado em Ciência da Computação\n",
    "\n",
    "---\n",
    "\n",
    "O objetivo deste trabalho é analisar um conjunto de dados sobre exames em pacientes a fim de reconhecer padrões dentre os usuários que possuem Parkinson. O código foi desenvolvido em Python 3 utilizando as bibliotecas Numpy, Pandas e Matplotlib, bem como o ambiente de programação Jupyter Notebook. Este trabalho encontra-se no [GitHub](https://github.com/lucaspg96/pattern-recognition/tree/work1/work1), assim como os códigos-fonte.\n",
    "\n",
    "Primeiramente, devemos importar as bibliotecas que serão utilizadas durante as análises."
   ]
  },
  {
   "cell_type": "code",
   "execution_count": 1,
   "metadata": {
    "collapsed": true
   },
   "outputs": [],
   "source": [
    "%matplotlib inline\n",
    "import pandas as pd\n",
    "import numpy as np\n",
    "import math\n",
    "\n",
    "import logging\n",
    "\n",
    "logging.basicConfig(format='%(asctime)s - %(name)s - %(levelname)s - %(message)s')\n",
    "logger = logging.getLogger()\n",
    "logger.setLevel(logging.DEBUG)"
   ]
  },
  {
   "cell_type": "markdown",
   "metadata": {},
   "source": [
    "Utilizamos o Pandas para visualizar os dados de maneira tabular, a fim de identificar os atributos presentes nas amostras."
   ]
  },
  {
   "cell_type": "code",
   "execution_count": 2,
   "metadata": {},
   "outputs": [
    {
     "data": {
      "text/html": [
       "<div>\n",
       "<style>\n",
       "    .dataframe thead tr:only-child th {\n",
       "        text-align: right;\n",
       "    }\n",
       "\n",
       "    .dataframe thead th {\n",
       "        text-align: left;\n",
       "    }\n",
       "\n",
       "    .dataframe tbody tr th {\n",
       "        vertical-align: top;\n",
       "    }\n",
       "</style>\n",
       "<table border=\"1\" class=\"dataframe\">\n",
       "  <thead>\n",
       "    <tr style=\"text-align: right;\">\n",
       "      <th></th>\n",
       "      <th>name</th>\n",
       "      <th>MDVP:Fo(Hz)</th>\n",
       "      <th>MDVP:Fhi(Hz)</th>\n",
       "      <th>MDVP:Flo(Hz)</th>\n",
       "      <th>MDVP:Jitter(%)</th>\n",
       "      <th>MDVP:Jitter(Abs)</th>\n",
       "      <th>MDVP:RAP</th>\n",
       "      <th>MDVP:PPQ</th>\n",
       "      <th>Jitter:DDP</th>\n",
       "      <th>MDVP:Shimmer</th>\n",
       "      <th>...</th>\n",
       "      <th>Shimmer:DDA</th>\n",
       "      <th>NHR</th>\n",
       "      <th>HNR</th>\n",
       "      <th>status</th>\n",
       "      <th>RPDE</th>\n",
       "      <th>DFA</th>\n",
       "      <th>spread1</th>\n",
       "      <th>spread2</th>\n",
       "      <th>D2</th>\n",
       "      <th>PPE</th>\n",
       "    </tr>\n",
       "  </thead>\n",
       "  <tbody>\n",
       "    <tr>\n",
       "      <th>0</th>\n",
       "      <td>phon_R01_S01_1</td>\n",
       "      <td>119.992</td>\n",
       "      <td>157.302</td>\n",
       "      <td>74.997</td>\n",
       "      <td>0.00784</td>\n",
       "      <td>0.00007</td>\n",
       "      <td>0.00370</td>\n",
       "      <td>0.00554</td>\n",
       "      <td>0.01109</td>\n",
       "      <td>0.04374</td>\n",
       "      <td>...</td>\n",
       "      <td>0.06545</td>\n",
       "      <td>0.02211</td>\n",
       "      <td>21.033</td>\n",
       "      <td>1</td>\n",
       "      <td>0.414783</td>\n",
       "      <td>0.815285</td>\n",
       "      <td>-4.813031</td>\n",
       "      <td>0.266482</td>\n",
       "      <td>2.301442</td>\n",
       "      <td>0.284654</td>\n",
       "    </tr>\n",
       "    <tr>\n",
       "      <th>1</th>\n",
       "      <td>phon_R01_S01_2</td>\n",
       "      <td>122.400</td>\n",
       "      <td>148.650</td>\n",
       "      <td>113.819</td>\n",
       "      <td>0.00968</td>\n",
       "      <td>0.00008</td>\n",
       "      <td>0.00465</td>\n",
       "      <td>0.00696</td>\n",
       "      <td>0.01394</td>\n",
       "      <td>0.06134</td>\n",
       "      <td>...</td>\n",
       "      <td>0.09403</td>\n",
       "      <td>0.01929</td>\n",
       "      <td>19.085</td>\n",
       "      <td>1</td>\n",
       "      <td>0.458359</td>\n",
       "      <td>0.819521</td>\n",
       "      <td>-4.075192</td>\n",
       "      <td>0.335590</td>\n",
       "      <td>2.486855</td>\n",
       "      <td>0.368674</td>\n",
       "    </tr>\n",
       "    <tr>\n",
       "      <th>2</th>\n",
       "      <td>phon_R01_S01_3</td>\n",
       "      <td>116.682</td>\n",
       "      <td>131.111</td>\n",
       "      <td>111.555</td>\n",
       "      <td>0.01050</td>\n",
       "      <td>0.00009</td>\n",
       "      <td>0.00544</td>\n",
       "      <td>0.00781</td>\n",
       "      <td>0.01633</td>\n",
       "      <td>0.05233</td>\n",
       "      <td>...</td>\n",
       "      <td>0.08270</td>\n",
       "      <td>0.01309</td>\n",
       "      <td>20.651</td>\n",
       "      <td>1</td>\n",
       "      <td>0.429895</td>\n",
       "      <td>0.825288</td>\n",
       "      <td>-4.443179</td>\n",
       "      <td>0.311173</td>\n",
       "      <td>2.342259</td>\n",
       "      <td>0.332634</td>\n",
       "    </tr>\n",
       "    <tr>\n",
       "      <th>3</th>\n",
       "      <td>phon_R01_S01_4</td>\n",
       "      <td>116.676</td>\n",
       "      <td>137.871</td>\n",
       "      <td>111.366</td>\n",
       "      <td>0.00997</td>\n",
       "      <td>0.00009</td>\n",
       "      <td>0.00502</td>\n",
       "      <td>0.00698</td>\n",
       "      <td>0.01505</td>\n",
       "      <td>0.05492</td>\n",
       "      <td>...</td>\n",
       "      <td>0.08771</td>\n",
       "      <td>0.01353</td>\n",
       "      <td>20.644</td>\n",
       "      <td>1</td>\n",
       "      <td>0.434969</td>\n",
       "      <td>0.819235</td>\n",
       "      <td>-4.117501</td>\n",
       "      <td>0.334147</td>\n",
       "      <td>2.405554</td>\n",
       "      <td>0.368975</td>\n",
       "    </tr>\n",
       "    <tr>\n",
       "      <th>4</th>\n",
       "      <td>phon_R01_S01_5</td>\n",
       "      <td>116.014</td>\n",
       "      <td>141.781</td>\n",
       "      <td>110.655</td>\n",
       "      <td>0.01284</td>\n",
       "      <td>0.00011</td>\n",
       "      <td>0.00655</td>\n",
       "      <td>0.00908</td>\n",
       "      <td>0.01966</td>\n",
       "      <td>0.06425</td>\n",
       "      <td>...</td>\n",
       "      <td>0.10470</td>\n",
       "      <td>0.01767</td>\n",
       "      <td>19.649</td>\n",
       "      <td>1</td>\n",
       "      <td>0.417356</td>\n",
       "      <td>0.823484</td>\n",
       "      <td>-3.747787</td>\n",
       "      <td>0.234513</td>\n",
       "      <td>2.332180</td>\n",
       "      <td>0.410335</td>\n",
       "    </tr>\n",
       "  </tbody>\n",
       "</table>\n",
       "<p>5 rows × 24 columns</p>\n",
       "</div>"
      ],
      "text/plain": [
       "             name  MDVP:Fo(Hz)  MDVP:Fhi(Hz)  MDVP:Flo(Hz)  MDVP:Jitter(%)  \\\n",
       "0  phon_R01_S01_1      119.992       157.302        74.997         0.00784   \n",
       "1  phon_R01_S01_2      122.400       148.650       113.819         0.00968   \n",
       "2  phon_R01_S01_3      116.682       131.111       111.555         0.01050   \n",
       "3  phon_R01_S01_4      116.676       137.871       111.366         0.00997   \n",
       "4  phon_R01_S01_5      116.014       141.781       110.655         0.01284   \n",
       "\n",
       "   MDVP:Jitter(Abs)  MDVP:RAP  MDVP:PPQ  Jitter:DDP  MDVP:Shimmer    ...     \\\n",
       "0           0.00007   0.00370   0.00554     0.01109       0.04374    ...      \n",
       "1           0.00008   0.00465   0.00696     0.01394       0.06134    ...      \n",
       "2           0.00009   0.00544   0.00781     0.01633       0.05233    ...      \n",
       "3           0.00009   0.00502   0.00698     0.01505       0.05492    ...      \n",
       "4           0.00011   0.00655   0.00908     0.01966       0.06425    ...      \n",
       "\n",
       "   Shimmer:DDA      NHR     HNR  status      RPDE       DFA   spread1  \\\n",
       "0      0.06545  0.02211  21.033       1  0.414783  0.815285 -4.813031   \n",
       "1      0.09403  0.01929  19.085       1  0.458359  0.819521 -4.075192   \n",
       "2      0.08270  0.01309  20.651       1  0.429895  0.825288 -4.443179   \n",
       "3      0.08771  0.01353  20.644       1  0.434969  0.819235 -4.117501   \n",
       "4      0.10470  0.01767  19.649       1  0.417356  0.823484 -3.747787   \n",
       "\n",
       "    spread2        D2       PPE  \n",
       "0  0.266482  2.301442  0.284654  \n",
       "1  0.335590  2.486855  0.368674  \n",
       "2  0.311173  2.342259  0.332634  \n",
       "3  0.334147  2.405554  0.368975  \n",
       "4  0.234513  2.332180  0.410335  \n",
       "\n",
       "[5 rows x 24 columns]"
      ]
     },
     "execution_count": 2,
     "metadata": {},
     "output_type": "execute_result"
    }
   ],
   "source": [
    "df = pd.read_csv(\"parkinsons.csv\")\n",
    "df.head()"
   ]
  },
  {
   "cell_type": "markdown",
   "metadata": {},
   "source": [
    "O dataset conta com 24 colunas, em que a coluna *name* corresponde ao nome do indivíduo e a coluna *status* corresponde à presença (1) ou não (0) da doença no indivíduo. Vamos visualizar a quantidade de amostras que possuem a doença e que não possuem."
   ]
  },
  {
   "cell_type": "code",
   "execution_count": 3,
   "metadata": {},
   "outputs": [
    {
     "data": {
      "image/png": "[encoded data removed]",
      "text/plain": [
       "<matplotlib.figure.Figure at 0x10d50f390>"
      ]
     },
     "metadata": {},
     "output_type": "display_data"
    }
   ],
   "source": [
    "_ = df[\"status\"].value_counts().plot(kind=\"bar\")"
   ]
  },
  {
   "cell_type": "markdown",
   "metadata": {},
   "source": [
    "Podemos ver que existe um desbalanceamento nos dados: temos uma grande quantidade de amostras de pacientes com parkinson e uma pequena quantidade dos que não possuem. Logo, podemos antecipar de antemão que os algoritmos de classificação terão seu desempenho afetado."
   ]
  },
  {
   "cell_type": "markdown",
   "metadata": {},
   "source": [
    "# Carregando a matriz de dados\n",
    "---\n",
    "\n",
    "Utilizamos o Numpy para realizar a leitura do arquivo de dados. Para aplicar os algoritmos de classificação, não utilizaremos a coluna *name*, uma vez que ela representa apenas o nome do indivíduo (o que é irrelevante para a detecção da doença). Vale comentar que, se utilizarmos esse dado, nosso modelo poderá tornar-se *enviesado*, pois ele pode detectar o padrão apenas no nome do indivíduo, o que não queremos.\n",
    "\n",
    "Por fins de praticidade, colocaremos a coluna do atributo *status* como o último atributo da matriz de dados."
   ]
  },
  {
   "cell_type": "code",
   "execution_count": 4,
   "metadata": {},
   "outputs": [
    {
     "data": {
      "text/plain": [
       "array([  1.19992000e+02,   1.57302000e+02,   7.49970000e+01,\n",
       "         7.84000000e-03,   7.00000000e-05,   3.70000000e-03,\n",
       "         5.54000000e-03,   1.10900000e-02,   4.37400000e-02,\n",
       "         4.26000000e-01,   2.18200000e-02,   3.13000000e-02,\n",
       "         2.97100000e-02,   6.54500000e-02,   2.21100000e-02,\n",
       "         2.10330000e+01,   4.14783000e-01,   8.15285000e-01,\n",
       "        -4.81303100e+00,   2.66482000e-01,   2.30144200e+00,\n",
       "         2.84654000e-01,   1.00000000e+00])"
      ]
     },
     "execution_count": 4,
     "metadata": {},
     "output_type": "execute_result"
    }
   ],
   "source": [
    "def load_data():\n",
    "    data = np.loadtxt(\"parkinsons.csv\",delimiter=',',skiprows=1,usecols=range(1,24))\n",
    "    status = data[:,16]\n",
    "    data = np.delete(data,16,1)\n",
    "    data = np.c_[data,status]\n",
    "    return data\n",
    "\n",
    "data = load_data()\n",
    "data[0]"
   ]
  },
  {
   "cell_type": "markdown",
   "metadata": {},
   "source": [
    "Vamos definir uma função para realizar a separação entre os dados de treino e teste a partir de uma certa proporção. Se solicitado, a função poderá também permutar os dados antes de separá-los, a fim de gerar conjuntos diferentes."
   ]
  },
  {
   "cell_type": "code",
   "execution_count": 5,
   "metadata": {
    "collapsed": true
   },
   "outputs": [],
   "source": [
    "def train_test_split(data,train_rate, shuffle=True):\n",
    "    \n",
    "    if shuffle:\n",
    "        np.random.shuffle(data)\n",
    "    \n",
    "    train_size = math.floor(train_rate*data.shape[0])\n",
    "\n",
    "    train_data = data[0: train_size,:]\n",
    "    test_data = data[train_size:,:]\n",
    "    \n",
    "    return train_data,test_data"
   ]
  },
  {
   "cell_type": "code",
   "execution_count": 6,
   "metadata": {},
   "outputs": [
    {
     "name": "stdout",
     "output_type": "stream",
     "text": [
      "Dados de treino: 156\n",
      "Dados de teste: 39\n"
     ]
    }
   ],
   "source": [
    "train,test = train_test_split(data,.8, shuffle=True)\n",
    "print(\"Dados de treino: {}\".format(train.shape[0]))\n",
    "print(\"Dados de teste: {}\".format(test.shape[0]))"
   ]
  },
  {
   "cell_type": "markdown",
   "metadata": {},
   "source": [
    "# Algoritmos de Classificação\n",
    "---\n",
    "\n",
    "Para permitir uma maior organização entre os algoritmos, definimos uma interface que deverá ser seguida pelos algoritmos que serão a seguir implementados.\n",
    "\n",
    "Deverá ser comum a todos os seguintes procedomentos:\n",
    "* **fit**, que é o processamento dos conjuntos de treino;\n",
    "* **predict**, que retorna a classe predita para uma certa amostra;\n",
    "* **score**, que informa a acurácia (entre 0 e 1) do modelo."
   ]
  },
  {
   "cell_type": "code",
   "execution_count": 7,
   "metadata": {
    "collapsed": true
   },
   "outputs": [],
   "source": [
    "import abc\n",
    "\n",
    "class LearningAlgorithm():\n",
    "    __metaclass__ = abc.ABCMeta\n",
    "    \n",
    "    @abc.abstractmethod\n",
    "    def fit(self,X,Y):\n",
    "        return\n",
    "    \n",
    "    @abc.abstractmethod\n",
    "    def predict(self,X):\n",
    "        return\n",
    "    \n",
    "    @abc.abstractmethod\n",
    "    def score(self,X,Y):\n",
    "        return"
   ]
  },
  {
   "cell_type": "markdown",
   "metadata": {},
   "source": [
    "Também definiremos uma função auxiliar de distância euclidiana, para ser utilizada pelos algoritmos de distância."
   ]
  },
  {
   "cell_type": "code",
   "execution_count": 8,
   "metadata": {
    "collapsed": true
   },
   "outputs": [],
   "source": [
    "def euclidian_distance(a,b):\n",
    "    return np.linalg.norm(a-b)"
   ]
  },
  {
   "cell_type": "markdown",
   "metadata": {},
   "source": [
    "Para auxiliar no cálculo das métricas, utilizaremos uma estrutura para representar a matriz de confusão dos dados de teste. A matriz conta com as seguintes métricas implementadas:\n",
    "* Sensibilidade, informando a proporção entre os pacientes que foram corretamente classificados como doentes e os doentes;\n",
    "* Especificidade, informando a proporção entre os pacientes que foram corretamente classificados como saudáveis e os saudáveis;\n",
    "* Precisão, informando a proporção entre os pacientes que foram corretamente classificados como doentes e os que foram corretamente classificados;\n",
    "* Acurácia, informando a proporção entre os pacientes que foram corretamente classificados e todos os pacientes."
   ]
  },
  {
   "cell_type": "code",
   "execution_count": 9,
   "metadata": {
    "collapsed": true
   },
   "outputs": [],
   "source": [
    "class ConfusionMatrix():\n",
    "    def __init__(self,label,predicted):\n",
    "        self.matrix = np.array([[0,0],[0,0]])\n",
    "        \n",
    "        for l,p in zip(label,predicted):\n",
    "            try:\n",
    "                l = int(l)\n",
    "                p = int(p)\n",
    "                self.matrix[l][p] += 1\n",
    "            except:\n",
    "                raise Exception(\"Invalid value. Values must be 0 or 1\")\n",
    "                \n",
    "    def true_positive(self):\n",
    "        return self.matrix[1][1]\n",
    "    \n",
    "    def true_negative(self):\n",
    "        return self.matrix[0][0]\n",
    "    \n",
    "    def false_positive(self):\n",
    "        return self.matrix[0][1]\n",
    "    \n",
    "    def false_negative(self):\n",
    "        return self.matrix[1][0]\n",
    "    \n",
    "    def sensitivity(self):\n",
    "        if self.true_positive() == 0:\n",
    "            return 0\n",
    "        \n",
    "        return self.true_positive()/(self.true_positive()+self.false_negative())\n",
    "            \n",
    "    def specificity(self):\n",
    "        if self.true_negative() == 0:\n",
    "            return 0\n",
    "        \n",
    "        return self.true_negative()/(self.true_negative()+self.false_positive())\n",
    "    \n",
    "    def precision(self):\n",
    "        if self.true_positive() == 0:\n",
    "            return 0\n",
    "        \n",
    "        return self.true_positive()/(self.true_positive()+self.false_positive())\n",
    "        \n",
    "    \n",
    "    def accuracy(self):\n",
    "        return (self.true_positive()+self.true_negative())/(np.sum(self.matrix))\n",
    "        "
   ]
  },
  {
   "cell_type": "markdown",
   "metadata": {},
   "source": [
    "## Distância Mínima ao Centróide (DMC)\n",
    "\n",
    "O primeiro algoritmo apresentado será o da *Distância Mínima ao Centróide*. Ele calcula os centróides das classes inseridas nos dados de treino e, na sua predição, ele retorna a classe do centróide mais próximo."
   ]
  },
  {
   "cell_type": "code",
   "execution_count": 10,
   "metadata": {
    "collapsed": true
   },
   "outputs": [],
   "source": [
    "class NearestCentroideClassifier(LearningAlgorithm):\n",
    "    \n",
    "    def __init__(self, distanceAlgorithm=euclidian_distance):\n",
    "        self.distance = distanceAlgorithm\n",
    "    \n",
    "    def fit(self,X,Y):   \n",
    "        classes = {}\n",
    "        for (x,y) in zip(X,Y):\n",
    "            if not y in classes:\n",
    "                classes[y] = []\n",
    "            \n",
    "            classes[y].append(x)\n",
    "        \n",
    "        self.clusters = {}\n",
    "        for k in classes:\n",
    "            data = np.array(classes[k])\n",
    "            cluster = np.mean(data,axis=0)\n",
    "            self.clusters[k] = cluster\n",
    "            \n",
    "    def predict(self,x):\n",
    "        distances = [(c,self.distance(x,self.clusters[c])) for c in self.clusters]\n",
    "        distances = sorted(distances,key=lambda x: x[1])\n",
    "        return distances[0][0]\n",
    "    \n",
    "    \n",
    "    def score(self,X,Y):\n",
    "        predictions = [1 if self.predict(x)==y else 0 for x,y in zip(X,Y)] \n",
    "        return sum(predictions)/len(predictions)"
   ]
  },
  {
   "cell_type": "markdown",
   "metadata": {},
   "source": [
    "Aplicando o algoritmo, obtemos os seguintes resultados para as métricas:"
   ]
  },
  {
   "cell_type": "code",
   "execution_count": 11,
   "metadata": {},
   "outputs": [
    {
     "name": "stdout",
     "output_type": "stream",
     "text": [
      "Sensibilidade: 75.0%\n",
      "Especificidade: 63.6%\n",
      "Precisão: 84.0%\n",
      "Accuracy: 71.8%\n"
     ]
    }
   ],
   "source": [
    "model = NearestCentroideClassifier()\n",
    "model.fit(train[:,:-1],train[:,-1])\n",
    "predicted = [model.predict(x) for x in test[:,:-1]]\n",
    "conf_matrix = ConfusionMatrix(test[:,-1],predicted)\n",
    "print(\"Sensibilidade: {:.1f}%\".format(100*conf_matrix.sensitivity()))\n",
    "print(\"Especificidade: {:.1f}%\".format(100*conf_matrix.specificity()))\n",
    "print(\"Precisão: {:.1f}%\".format(100*conf_matrix.precision()))\n",
    "print(\"Accuracy: {:.1f}%\".format(100*conf_matrix.accuracy()))"
   ]
  },
  {
   "cell_type": "markdown",
   "metadata": {},
   "source": [
    "## K Vizinhos mais Próximos (KNN)\n",
    "\n",
    "O segundo algoritmo apresentado é semelhante ao DMC: ao invés de calcular os centróides das classes, o algoritmo armazena os dados de treino. Para prever a classe, encontra-se as *k* amostras mais próximas\n",
    "do elemento a ser classificado e verifica a classe que mais se repete."
   ]
  },
  {
   "cell_type": "code",
   "execution_count": 12,
   "metadata": {
    "collapsed": true
   },
   "outputs": [],
   "source": [
    "from collections import Counter\n",
    "\n",
    "\n",
    "class KNNClassifier(LearningAlgorithm):\n",
    "    \n",
    "    def __init__(self,k=10, distanceAlgorithm=euclidian_distance):\n",
    "        self.k = k\n",
    "        self.distance = distanceAlgorithm\n",
    "    \n",
    "    def fit(self,X,Y,itter=100):\n",
    "        self.data = [(x,y) for x,y in zip(X,Y)]\n",
    "        \n",
    "    def predict(self,x):\n",
    "        distances = [(d[1],self.distance(x,list(d[0]))) for d in self.data]\n",
    "        distances = sorted(distances,key=lambda x: x[1])\n",
    "        top_k = [c for c,_ in distances[:self.k]]\n",
    "        counter = Counter(top_k)\n",
    "        return counter.most_common(1)[0][0]\n",
    "    \n",
    "    \n",
    "    def score(self,X,Y):\n",
    "        predictions = [1 if self.predict(x)==y else 0 for x,y in zip(X,Y)] \n",
    "        return sum(predictions)/len(predictions)"
   ]
  },
  {
   "cell_type": "markdown",
   "metadata": {},
   "source": [
    "Este algoritmo possui um hiperparâmetro: um parâmetro que não é *aprendido*, que é o número de elementos mais próximos *k*. Como possuímos apenas 2 classes, utilizamos o valor *k=11* para que não haja a possibilidade de haver empate entre o número de classes mais próximas."
   ]
  },
  {
   "cell_type": "code",
   "execution_count": 13,
   "metadata": {},
   "outputs": [
    {
     "name": "stdout",
     "output_type": "stream",
     "text": [
      "Sensibilidade: 100.0%\n",
      "Especificidade: 18.2%\n",
      "Precisão: 75.7%\n",
      "Accuracy: 76.9%\n"
     ]
    }
   ],
   "source": [
    "model = KNNClassifier(k=11)\n",
    "model.fit(train[:,:-1],train[:,-1])\n",
    "predicted = [model.predict(x) for x in test[:,:-1]]\n",
    "conf_matrix = ConfusionMatrix(test[:,-1],predicted)\n",
    "print(\"Sensibilidade: {:.1f}%\".format(100*conf_matrix.sensitivity()))\n",
    "print(\"Especificidade: {:.1f}%\".format(100*conf_matrix.specificity()))\n",
    "print(\"Precisão: {:.1f}%\".format(100*conf_matrix.precision()))\n",
    "print(\"Accuracy: {:.1f}%\".format(100*conf_matrix.accuracy()))"
   ]
  },
  {
   "cell_type": "markdown",
   "metadata": {},
   "source": [
    "## Vizinho Mais Próximo (NN)\n",
    "\n",
    "O *Vizinho Mais Próximo* é um caso particular do *KNN*, onde ***k = 1***."
   ]
  },
  {
   "cell_type": "code",
   "execution_count": 14,
   "metadata": {
    "collapsed": true
   },
   "outputs": [],
   "source": [
    "class NNClassifier(KNNClassifier):\n",
    "    def __init__(self, distanceAlgorithm=euclidian_distance):\n",
    "        KNNClassifier.__init__(self, k=1, distanceAlgorithm=distanceAlgorithm)"
   ]
  },
  {
   "cell_type": "markdown",
   "metadata": {},
   "source": [
    "Aplicando o algoritmo, obtemos os seguintes resultados para as métricas:"
   ]
  },
  {
   "cell_type": "code",
   "execution_count": 15,
   "metadata": {},
   "outputs": [
    {
     "name": "stdout",
     "output_type": "stream",
     "text": [
      "Sensibilidade: 92.9%\n",
      "Especificidade: 45.5%\n",
      "Precisão: 81.2%\n",
      "Accuracy: 79.5%\n"
     ]
    }
   ],
   "source": [
    "model = NNClassifier()\n",
    "model.fit(train[:,:-1],train[:,-1])\n",
    "predicted = [model.predict(x) for x in test[:,:-1]]\n",
    "conf_matrix = ConfusionMatrix(test[:,-1],predicted)\n",
    "print(\"Sensibilidade: {:.1f}%\".format(100*conf_matrix.sensitivity()))\n",
    "print(\"Especificidade: {:.1f}%\".format(100*conf_matrix.specificity()))\n",
    "print(\"Precisão: {:.1f}%\".format(100*conf_matrix.precision()))\n",
    "print(\"Accuracy: {:.1f}%\".format(100*conf_matrix.accuracy()))"
   ]
  },
  {
   "cell_type": "markdown",
   "metadata": {},
   "source": [
    "## Classificador Quadrático (CQ)\n",
    "\n",
    "O classificador quadrático pode ser visto também como um caso particular do DMC, onde a função de distância utilizada é a *Distância de Mahalanobis* entre a amostra a ser classificada e o centróide da classe. Logo, definimos uma função de *alta ordem* que gera uma função que computa essa distância a partir de uma certa matriz *Q*."
   ]
  },
  {
   "cell_type": "code",
   "execution_count": 16,
   "metadata": {
    "collapsed": true
   },
   "outputs": [],
   "source": [
    "def generate_mahalanobis_distance(Q):\n",
    "    def distance_function(x,y):\n",
    "        z = x - y\n",
    "        right = np.matmul(Q,z)\n",
    "        left = np.matmul(z.transpose(),right)\n",
    "        return math.sqrt(left)\n",
    "    \n",
    "    return distance_function"
   ]
  },
  {
   "cell_type": "markdown",
   "metadata": {},
   "source": [
    "A matriz *Q* é muito importante para essa métrica, pois ela incrementa a semântica do resultado. Por exemplo: caso a matriz seja a própria identidade, a distância é meramente euclidiana. Neste classificador, o inverso da *Matriz de Convariância* é utilizado. Portanto, precisamos calculá-la para cada classe."
   ]
  },
  {
   "cell_type": "code",
   "execution_count": 17,
   "metadata": {
    "collapsed": true
   },
   "outputs": [],
   "source": [
    "def covariance(X):\n",
    "    m = np.mean(X,axis=1).transpose()\n",
    "    n = X.shape[1]\n",
    "    R = np.matmul(X,X.transpose())/n\n",
    "    return R - np.outer(m,m.transpose())"
   ]
  },
  {
   "cell_type": "markdown",
   "metadata": {},
   "source": [
    "Como a utilizaremos o **inverso** da matriz de convariância, precisamos checar se a matriz é *invertível* ou não. Para isso, basta checarmos seu posto(*rank*) e seu condicionamento.\n",
    "\n",
    "**OBS**: utilizei o valor 30 como limite superior para o condicionamento por ser o mesmo número utilizado pelo MatLab."
   ]
  },
  {
   "cell_type": "code",
   "execution_count": 18,
   "metadata": {
    "collapsed": true,
    "scrolled": true
   },
   "outputs": [],
   "source": [
    "def is_invertible(X):\n",
    "    rank = np.linalg.matrix_rank(X)\n",
    "    cond = np.linalg.cond(X)\n",
    "    if rank < X.shape[0]:\n",
    "        return False, \"Matrix isn't inversible because has rank {}\".format(rank)\n",
    "    if cond > 30:\n",
    "        return False, \"Matrix is ill-conditioned({})\".format(cond)\n",
    "    return True, \"\""
   ]
  },
  {
   "cell_type": "markdown",
   "metadata": {},
   "source": [
    "Caso a matriz não seja invertível, precisamos encontrar uma outra matriz que possa ser utilizada, mas partindo da matriz de covariância original. Utilizaremos duas abordagens:\n",
    "* Regularização de Friedman\n",
    "* Matriz de Covariância agregada"
   ]
  },
  {
   "cell_type": "markdown",
   "metadata": {},
   "source": [
    "### Regularização de Friedman (F)\n",
    "\n",
    "O método da Regularização de Friedman pode ser encontrado em seu trabalho *[Regularized Discriminant Analysis](https://www.jstor.org/stable/pdf/2289860.pdf)*. Utilizamos uma função que recebe os parâmetros *l*(*lambda*), *g*(*gamma*) e os dados agrupados por suas classes e retornamos as matrizes de covariâncias regularizadas de cada classe."
   ]
  },
  {
   "cell_type": "code",
   "execution_count": 19,
   "metadata": {
    "collapsed": true
   },
   "outputs": [],
   "source": [
    "def friedman_regularization(l,g,clusters):\n",
    "    sk = {}\n",
    "    \n",
    "    wk = {}\n",
    "    \n",
    "    cov_lambda = {}\n",
    "    \n",
    "    for k in clusters:\n",
    "        data = np.array(clusters[k])\n",
    "        wk[k] = data.shape[0]\n",
    "        sk[k] = covariance(data.transpose())*wk[k]\n",
    "    \n",
    "    s = sum([sk[k] for k in sk])\n",
    "    w = sum([wk[k] for k in wk])\n",
    "    \n",
    "    for k in clusters:\n",
    "        wk_lambda = (1-l)*wk[k] + l*w\n",
    "        sk_lambda = (1-l)*sk[k] + l*s\n",
    "        cov_lambda[k] = (1/wk_lambda)*sk_lambda\n",
    "        \n",
    "    return {\n",
    "        k: (1-g)*cov_lambda[k] + (g/cov_lambda[k].shape[0])*np.trace(cov_lambda[k])*np.eye(cov_lambda[k].shape[0],cov_lambda[k].shape[0]) \\\n",
    "        for k in clusters\n",
    "    }"
   ]
  },
  {
   "cell_type": "markdown",
   "metadata": {},
   "source": [
    "### Covariância Agregada (P)\n",
    "\n",
    "A matriz de covariância agregada é o somatório das matrizes de covariâncias das classes multiplicadas pela probabilidade a priori(porcentagem dos dados) de cada classe. A função recebe os dados agrupados por suas classes e retorna a matriz de covariância agregada."
   ]
  },
  {
   "cell_type": "code",
   "execution_count": 20,
   "metadata": {
    "collapsed": true
   },
   "outputs": [],
   "source": [
    "def pooled_covariance(clusters):\n",
    "    sigma = None\n",
    "    n = sum([len(clusters[k]) for k in clusters])\n",
    "    \n",
    "    for k in clusters:\n",
    "        data = np.array(clusters[k])\n",
    "        cov = covariance(data.transpose())\n",
    "        if sigma is None:\n",
    "            sigma = (cov.shape[0]/n)*cov\n",
    "        else:\n",
    "            sigma += (cov.shape[0]/n)*cov\n",
    "        \n",
    "    return sigma\n",
    "        "
   ]
  },
  {
   "cell_type": "markdown",
   "metadata": {},
   "source": [
    "Por fim, podemos implementar o algoritmo do *Classificador Quadrático*(CQ). Ele possui um hiperparâmetro que é a estratégia para utilizar caso a matriz de covariância não seja invertível. As opções são *friedman*, a qual utiliza o método de regularização de Friedman, e *pooled*, que computa a matriz de covariância agregada."
   ]
  },
  {
   "cell_type": "code",
   "execution_count": 21,
   "metadata": {
    "collapsed": true
   },
   "outputs": [],
   "source": [
    "class DistanceCell():\n",
    "        def __init__(self,m,Q):\n",
    "            self.m = m\n",
    "            self.distance = generate_mahalanobis_distance(Q)\n",
    "            \n",
    "        def calculate(self, x):\n",
    "            return self.distance(self.m,x)\n",
    "\n",
    "class QuadraticClassifier(LearningAlgorithm):\n",
    "    \n",
    "    def __init__(self,check_invertibility=False,pinv_mode=\"friedman\"):\n",
    "        self.check_invertibility = check_invertibility\n",
    "        self.pinv_mode = pinv_mode\n",
    "    \n",
    "    def fit(self,X,Y,itter=100):\n",
    "        classes = {}\n",
    "        for (x,y) in zip(X,Y):\n",
    "            if not y in classes:\n",
    "                classes[y] = []\n",
    "            \n",
    "            classes[y].append(x)\n",
    "        \n",
    "        self.cells = {}\n",
    "        \n",
    "        if self.check_invertibility:\n",
    "            need_pinv = False\n",
    "            for k in classes:\n",
    "                data = np.array(classes[k])\n",
    "                m = np.mean(data,axis=0)\n",
    "                cov = covariance(data.transpose())\n",
    "\n",
    "                invertibility, message = is_invertible(cov)\n",
    "                if invertibility:\n",
    "                    self.cells[k] = DistanceCell(m,np.linalg.inv(cov))\n",
    "                else:\n",
    "                    need_pinv = True\n",
    "                    logger.warning(message)\n",
    "                    break\n",
    "            \n",
    "            if need_pinv:\n",
    "                if self.pinv_mode == \"friedman\":\n",
    "                    logger.info(\"Computing regularized covariances matrices\")\n",
    "                    covs = friedman_regularization(.5,1,classes)\n",
    "                    for k in classes:\n",
    "                        m = np.mean(data,axis=0)\n",
    "                        self.cells[k] = DistanceCell(m,np.linalg.inv(covs[k]))\n",
    "                        \n",
    "                elif self.pinv_mode == \"pooled\":\n",
    "                    logger.info(\"Computing pooled covariance matrix\")\n",
    "                    cov = pooled_covariance(classes)\n",
    "                    inv_cov = np.linalg.inv(cov)\n",
    "                    for k in classes:\n",
    "                        m = np.mean(data,axis=0)\n",
    "                        self.cells[k] = DistanceCell(m,inv_cov)\n",
    "                else:\n",
    "                    raise Exception(\"Invalid pinv method: {}\".format(self.pinv_mode))\n",
    "            \n",
    "        else:\n",
    "            for k in classes:\n",
    "                data = np.array(classes[k])\n",
    "                m = np.mean(data,axis=0)\n",
    "                cov = covariance(data.transpose())\n",
    "                self.cells[k] = DistanceCell(m,np.linalg.inv(cov))\n",
    "                    \n",
    "            \n",
    "    def predict(self, x):\n",
    "        distances = [(c,self.cells[c].calculate(x)) for c in self.cells]\n",
    "        distances = sorted(distances,key=lambda x: x[1])\n",
    "        return distances[0][0]\n",
    "    \n",
    "    \n",
    "    def score(self,X,Y):\n",
    "        predictions = [1 if self.predict(x)==y else 0 for x,y in zip(X,Y)] \n",
    "        return sum(predictions)/len(predictions)"
   ]
  },
  {
   "cell_type": "markdown",
   "metadata": {},
   "source": [
    "Executando o algoritmo com a estratégia *friedman*, obtemos os seguintes resultados:"
   ]
  },
  {
   "cell_type": "code",
   "execution_count": 22,
   "metadata": {},
   "outputs": [
    {
     "name": "stderr",
     "output_type": "stream",
     "text": [
      "2018-11-06 09:57:01,245 - root - WARNING - Matrix isn't inversible because has rank 19\n",
      "2018-11-06 09:57:01,246 - root - INFO - Computing pooled covariance matrix\n"
     ]
    },
    {
     "name": "stdout",
     "output_type": "stream",
     "text": [
      "Sensibilidade: 100.0%\n",
      "Especificidade: 0.0%\n",
      "Precisão: 71.8%\n",
      "Accuracy: 71.8%\n"
     ]
    }
   ],
   "source": [
    "model = QuadraticClassifier(check_invertibility=True,pinv_mode=\"pooled\")\n",
    "model.fit(train[:,:-1],train[:,-1])\n",
    "predicted = [model.predict(x) for x in test[:,:-1]]\n",
    "conf_matrix = ConfusionMatrix(test[:,-1],predicted)\n",
    "print(\"Sensibilidade: {:.1f}%\".format(100*conf_matrix.sensitivity()))\n",
    "print(\"Especificidade: {:.1f}%\".format(100*conf_matrix.specificity()))\n",
    "print(\"Precisão: {:.1f}%\".format(100*conf_matrix.precision()))\n",
    "print(\"Accuracy: {:.1f}%\".format(100*conf_matrix.accuracy()))"
   ]
  },
  {
   "cell_type": "markdown",
   "metadata": {},
   "source": [
    "Executando o algoritmo com a estratégia *pooled*, obtemos os seguintes resultados:"
   ]
  },
  {
   "cell_type": "code",
   "execution_count": 23,
   "metadata": {},
   "outputs": [
    {
     "name": "stderr",
     "output_type": "stream",
     "text": [
      "2018-11-06 09:57:01,264 - root - WARNING - Matrix isn't inversible because has rank 19\n",
      "2018-11-06 09:57:01,265 - root - INFO - Computing regularized covariances matrices\n"
     ]
    },
    {
     "name": "stdout",
     "output_type": "stream",
     "text": [
      "Sensibilidade: 0.0%\n",
      "Especificidade: 100.0%\n",
      "Precisão: 0.0%\n",
      "Accuracy: 28.2%\n"
     ]
    }
   ],
   "source": [
    "model = QuadraticClassifier(check_invertibility=True,pinv_mode=\"friedman\")\n",
    "model.fit(train[:,:-1],train[:,-1])\n",
    "predicted = [model.predict(x) for x in test[:,:-1]]\n",
    "conf_matrix = ConfusionMatrix(test[:,-1],predicted)\n",
    "print(\"Sensibilidade: {:.1f}%\".format(100*conf_matrix.sensitivity()))\n",
    "print(\"Especificidade: {:.1f}%\".format(100*conf_matrix.specificity()))\n",
    "print(\"Precisão: {:.1f}%\".format(100*conf_matrix.precision()))\n",
    "print(\"Accuracy: {:.1f}%\".format(100*conf_matrix.accuracy()))"
   ]
  },
  {
   "cell_type": "markdown",
   "metadata": {},
   "source": [
    "## Classificador Quadrático Gaussiano (CQG)\n",
    "\n",
    "Este algoritmo utiliza da função de *densidade de probabilidade* para prever a classe de uma amostra. Para uma certa amostra *X* de teste, o algoritmo calcula a *probabilidade a posteriori* para cada classe *C*. A classe da amostra será aquela de maior probabilidade.\n",
    "\n",
    "Como esse método também possui a necessidade de calcular a inversa da matriz de covariância, precisamos do hiperparâmetro para a estratégia caso a matriz de covariância não seja invertível."
   ]
  },
  {
   "cell_type": "code",
   "execution_count": 24,
   "metadata": {
    "collapsed": true
   },
   "outputs": [],
   "source": [
    "class QuadraticGaussianClassifier(LearningAlgorithm):\n",
    "\n",
    "    def __init__(self,check_invertibility=False,pinv_mode=\"friedman\"):\n",
    "        self.check_invertibility = check_invertibility\n",
    "        self.pinv_mode = pinv_mode\n",
    "\n",
    "    def fit(self,X,Y,itter=100):   \n",
    "        classes = {}\n",
    "        n = X.shape[0]\n",
    "        for (x,y) in zip(X,Y):\n",
    "            if not y in classes:\n",
    "                classes[y] = []\n",
    "            \n",
    "            classes[y].append(x)\n",
    "        \n",
    "        self.cells = {}\n",
    "        \n",
    "        if self.check_invertibility:\n",
    "            need_pinv = False\n",
    "            for k in classes:\n",
    "                data = np.array(classes[k])\n",
    "                m = np.mean(data,axis=0)\n",
    "                std = np.std(data,axis=0)\n",
    "                cov = covariance(data.transpose())\n",
    "                \n",
    "                invertibility, message = is_invertible(cov)\n",
    "                if invertibility:\n",
    "                    self.cells[k] = {\n",
    "                        \"icov\": np.linalg.inv(cov),\n",
    "                        \"cov_det\": np.linalg.det(cov),\n",
    "                        \"mean\": m,\n",
    "                        \"std\": std,\n",
    "                        \"prob_priori\": data.shape[0]/n\n",
    "                    }\n",
    "                    \n",
    "                else:\n",
    "                    need_pinv = True\n",
    "                    logger.warning(message)\n",
    "                    break\n",
    "                \n",
    "            if need_pinv:\n",
    "                if self.pinv_mode == \"friedman\":\n",
    "                    logger.info(\"Computing regularized covariances matrices\")\n",
    "                    covs = friedman_regularization(.5,1,classes)\n",
    "                    for k in classes:\n",
    "                        m = np.mean(data,axis=0)\n",
    "                        std = np.std(data,axis=0)\n",
    "                        cov = covs[k]\n",
    "                        self.cells[k] = {\n",
    "                            \"icov\": np.linalg.inv(cov),\n",
    "                            \"cov_det\": np.linalg.det(cov),\n",
    "                            \"mean\": m,\n",
    "                            \"std\": std,\n",
    "                            \"prob_priori\": data.shape[0]/n\n",
    "                        }\n",
    "\n",
    "                elif self.pinv_mode == \"pooled\":\n",
    "                    logger.info(\"Computing pooled covariance matrix\")\n",
    "                    cov = pooled_covariance(classes)\n",
    "                    inv_cov = np.linalg.inv(cov)\n",
    "                    for k in classes:\n",
    "                        m = np.mean(data,axis=0)\n",
    "                        std = np.std(data,axis=0)\n",
    "                        self.cells[k] = {\n",
    "                            \"icov\":inv_cov,\n",
    "                            \"cov_det\": np.linalg.det(cov),\n",
    "                            \"mean\": m,\n",
    "                            \"std\": std,\n",
    "                            \"prob_priori\": data.shape[0]/n\n",
    "                        }\n",
    "                else:\n",
    "                    raise Exception(\"Invalid pinv method: {}\".format(self.pinv_mode))\n",
    "            \n",
    "        else:\n",
    "            for k in classes:\n",
    "                data = np.array(classes[k])\n",
    "                m = np.mean(data,axis=0)\n",
    "                std = np.std(data,axis=0)\n",
    "                cov = covariance(data.transpose())\n",
    "                self.cells[k] = {\n",
    "                    \"icov\": np.linalg.inv(cov),\n",
    "                    \"cov_det\": np.linalg.det(cov),\n",
    "                    \"mean\": m,\n",
    "                    \"std\": std,\n",
    "                    \"prob_priori\": data.shape[0]/n\n",
    "                }\n",
    "            \n",
    "    def __prob__(self,x,k):\n",
    "        s = self.cells[k][\"std\"]\n",
    "        m = self.cells[k][\"mean\"]\n",
    "        ic = self.cells[k][\"icov\"]\n",
    "        cov_det = self.cells[k][\"cov_det\"]\n",
    "        prob_priori = self.cells[k][\"prob_priori\"]\n",
    "        z = x-m\n",
    "        return math.log(prob_priori) \\\n",
    "            - 0.5*np.matmul(z, np.matmul(ic,z)) - 0.5*math.log(cov_det)\n",
    "            \n",
    "    def predict(self,x):\n",
    "        distances = [(k,self.__prob__(x,k)) for k in self.cells]\n",
    "        distances = sorted(distances,key=lambda x: x[1], reverse=True)\n",
    "        return distances[0][0]\n",
    "    \n",
    "    \n",
    "    def score(self,X,Y):\n",
    "        predictions = [1 if self.predict(x)==y else 0 for x,y in zip(X,Y)] \n",
    "        return sum(predictions)/len(predictions)"
   ]
  },
  {
   "cell_type": "markdown",
   "metadata": {},
   "source": [
    "Executando o algoritmo com a estratégia *friedman*, obtemos os seguintes resultados:"
   ]
  },
  {
   "cell_type": "code",
   "execution_count": 25,
   "metadata": {},
   "outputs": [
    {
     "name": "stderr",
     "output_type": "stream",
     "text": [
      "2018-11-06 09:57:01,384 - root - WARNING - Matrix isn't inversible because has rank 19\n",
      "2018-11-06 09:57:01,385 - root - INFO - Computing regularized covariances matrices\n"
     ]
    },
    {
     "name": "stdout",
     "output_type": "stream",
     "text": [
      "Sensibilidade: 89.3%\n",
      "Especificidade: 27.3%\n",
      "Precisão: 75.8%\n",
      "Accuracy: 71.8%\n"
     ]
    }
   ],
   "source": [
    "model = QuadraticGaussianClassifier(check_invertibility=True, pinv_mode=\"friedman\")\n",
    "model.fit(train[:,:-1],train[:,-1])\n",
    "predicted = [model.predict(x) for x in test[:,:-1]]\n",
    "conf_matrix = ConfusionMatrix(test[:,-1],predicted)\n",
    "print(\"Sensibilidade: {:.1f}%\".format(100*conf_matrix.sensitivity()))\n",
    "print(\"Especificidade: {:.1f}%\".format(100*conf_matrix.specificity()))\n",
    "print(\"Precisão: {:.1f}%\".format(100*conf_matrix.precision()))\n",
    "print(\"Accuracy: {:.1f}%\".format(100*conf_matrix.accuracy()))"
   ]
  },
  {
   "cell_type": "markdown",
   "metadata": {},
   "source": [
    "Executando o algoritmo com a estratégia *pooled*, obtemos os seguintes resultados:"
   ]
  },
  {
   "cell_type": "code",
   "execution_count": 26,
   "metadata": {},
   "outputs": [
    {
     "name": "stderr",
     "output_type": "stream",
     "text": [
      "2018-11-06 09:57:01,405 - root - WARNING - Matrix isn't inversible because has rank 19\n",
      "2018-11-06 09:57:01,406 - root - INFO - Computing pooled covariance matrix\n"
     ]
    },
    {
     "name": "stdout",
     "output_type": "stream",
     "text": [
      "Sensibilidade: 100.0%\n",
      "Especificidade: 0.0%\n",
      "Precisão: 71.8%\n",
      "Accuracy: 71.8%\n"
     ]
    }
   ],
   "source": [
    "model = QuadraticGaussianClassifier(check_invertibility=True, pinv_mode=\"pooled\")\n",
    "model.fit(train[:,:-1],train[:,-1])\n",
    "predicted = [model.predict(x) for x in test[:,:-1]]\n",
    "conf_matrix = ConfusionMatrix(test[:,-1],predicted)\n",
    "print(\"Sensibilidade: {:.1f}%\".format(100*conf_matrix.sensitivity()))\n",
    "print(\"Especificidade: {:.1f}%\".format(100*conf_matrix.specificity()))\n",
    "print(\"Precisão: {:.1f}%\".format(100*conf_matrix.precision()))\n",
    "print(\"Accuracy: {:.1f}%\".format(100*conf_matrix.accuracy()))"
   ]
  },
  {
   "cell_type": "markdown",
   "metadata": {},
   "source": [
    "## Naive Bayes (NB)\n",
    "\n",
    "Este classificador é um caso particular do CQG, porém ele assume que os dados são **não correlacionados**, logo, a matriz de covariância é uma matriz *diagonal*. Portanto, não precisamos realizar checagens quanto a invertibilidade."
   ]
  },
  {
   "cell_type": "code",
   "execution_count": 27,
   "metadata": {
    "collapsed": true
   },
   "outputs": [],
   "source": [
    "class NormalNaiveBayes(LearningAlgorithm):\n",
    "   \n",
    "    def fit(self,X,Y):   \n",
    "        classes = {}\n",
    "        n = X.shape[0]\n",
    "        for (x,y) in zip(X,Y):\n",
    "            if not y in classes:\n",
    "                classes[y] = []\n",
    "            \n",
    "            classes[y].append(x)\n",
    "        \n",
    "        self.cells = {}\n",
    "        for k in classes:\n",
    "            data = np.array(classes[k])\n",
    "            m = np.mean(data,axis=0)\n",
    "            std = np.std(data,axis=0)\n",
    "            var = np.var(data,axis=0)\n",
    "            self.cells[k] = {\n",
    "                \"icov\": np.linalg.inv(np.diag(var)),\n",
    "                \"cov_det\": np.prod(var),\n",
    "                \"mean\": m,\n",
    "                \"std\": std,\n",
    "                \"prob_priori\": data.shape[0]/n\n",
    "            }\n",
    "            \n",
    "    def __prob__(self,x,k):\n",
    "        s = self.cells[k][\"std\"]\n",
    "        m = self.cells[k][\"mean\"]\n",
    "        ic = self.cells[k][\"icov\"]\n",
    "        cov_det = self.cells[k][\"cov_det\"]\n",
    "        prob_priori = self.cells[k][\"prob_priori\"]\n",
    "        z = x-m\n",
    "        return math.log(prob_priori) \\\n",
    "            - 0.5*np.matmul(z, np.matmul(ic,z)) - 0.5*math.log(cov_det)\n",
    "            \n",
    "    def predict(self,x):\n",
    "        distances = [(k,self.__prob__(x,k)) for k in self.cells]\n",
    "        distances = sorted(distances,key=lambda x: x[1], reverse=True)\n",
    "        return distances[0][0]\n",
    "    \n",
    "    \n",
    "    def score(self,X,Y):\n",
    "        predictions = [1 if self.predict(x)==y else 0 for x,y in zip(X,Y)] \n",
    "        return sum(predictions)/len(predictions)"
   ]
  },
  {
   "cell_type": "markdown",
   "metadata": {},
   "source": [
    "Aplicando o algoritmo, obtemos os seguintes resultados para as métricas:"
   ]
  },
  {
   "cell_type": "code",
   "execution_count": 28,
   "metadata": {},
   "outputs": [
    {
     "name": "stdout",
     "output_type": "stream",
     "text": [
      "Sensibilidade: 82.1%\n",
      "Especificidade: 100.0%\n",
      "Precisão: 100.0%\n",
      "Accuracy: 87.2%\n"
     ]
    }
   ],
   "source": [
    "model = NormalNaiveBayes()\n",
    "model.fit(train[:,:-1],train[:,-1])\n",
    "predicted = [model.predict(x) for x in test[:,:-1]]\n",
    "conf_matrix = ConfusionMatrix(test[:,-1],predicted)\n",
    "print(\"Sensibilidade: {:.1f}%\".format(100*conf_matrix.sensitivity()))\n",
    "print(\"Especificidade: {:.1f}%\".format(100*conf_matrix.specificity()))\n",
    "print(\"Precisão: {:.1f}%\".format(100*conf_matrix.precision()))\n",
    "print(\"Accuracy: {:.1f}%\".format(100*conf_matrix.accuracy()))"
   ]
  },
  {
   "cell_type": "markdown",
   "metadata": {},
   "source": [
    "Agora que conhecemos os classificadores, utilizaremos uma função para executar 100 vezes os experimentos para cada algoritmo, sempre permutando os dados e dividindo em treino e teste. Utilizaremos o Pandas para apresentar a tabela com os resultados."
   ]
  },
  {
   "cell_type": "code",
   "execution_count": 29,
   "metadata": {
    "collapsed": true
   },
   "outputs": [],
   "source": [
    "def run_experiments(data, experiments_indices):\n",
    "    logger.setLevel(logging.CRITICAL)\n",
    "    models = {\n",
    "        \"NB\": NormalNaiveBayes(),\n",
    "        \"CQ(P)\": \n",
    "            QuadraticClassifier(check_invertibility=True,pinv_mode=\"pooled\"),\n",
    "        \"CQG(P)\": \n",
    "            QuadraticGaussianClassifier(check_invertibility=True,pinv_mode=\"pooled\"),\n",
    "        \"CQ(F)\": \n",
    "            QuadraticClassifier(check_invertibility=True,pinv_mode=\"friedman\"),\n",
    "        \"CQG(F)\": \n",
    "            QuadraticGaussianClassifier(check_invertibility=True,pinv_mode=\"friedman\"),\n",
    "        \"DMC\": NearestCentroideClassifier(),\n",
    "        \"KNN(k=11)\": KNNClassifier(k=11),\n",
    "        \"NN\": NNClassifier()\n",
    "    }\n",
    "\n",
    "    acc_results = []\n",
    "    metrics_results = []\n",
    "    for model_name in models:\n",
    "        model = models[model_name]\n",
    "        min_score = 101\n",
    "        max_score = -1\n",
    "\n",
    "        scores = []\n",
    "        sensitivities = []\n",
    "        specificities = []\n",
    "        precisions = []\n",
    "        for indices in experiments_indices:\n",
    "            \n",
    "            train,test = train_test_split(data[indices,:],.8, shuffle=False)\n",
    "            model.fit(train[:,:-1],train[:,-1])\n",
    "\n",
    "            predicted = [model.predict(x) for x in test[:,:-1]]\n",
    "            conf_matrix = ConfusionMatrix(test[:,-1],predicted)\n",
    "\n",
    "            sensitivities.append(conf_matrix.sensitivity())\n",
    "            specificities.append(conf_matrix.specificity())\n",
    "            precisions.append(conf_matrix.precision())\n",
    "\n",
    "            score = conf_matrix.accuracy()\n",
    "            scores.append(score)\n",
    "\n",
    "            if score > max_score:\n",
    "                max_score = score\n",
    "\n",
    "            if score < min_score:\n",
    "                min_score = score\n",
    "\n",
    "        mean = np.mean(scores)\n",
    "        std = np.std(scores)\n",
    "        median = np.median(scores)\n",
    "\n",
    "        acc_results.append({\n",
    "            \"1 - Alg\": model_name,\n",
    "            \"2 - Média(%)\": mean*100,\n",
    "            \"3 - Mediana(%)\": median*100,\n",
    "            \"4 - Min/Max(%)\": \"{:.1f} / {:.1f}\".format(min_score*100,max_score*100),\n",
    "            \"5 - Desv. Pad.(%)\": std*100\n",
    "        })\n",
    "        \n",
    "        metrics_results.append({\n",
    "            \"1 - Alg\": model_name,\n",
    "            \"6 - Sensibilidade(%)\": np.mean(sensitivities)*100,\n",
    "            \"7 - Especificidade(%)\": np.mean(specificities)*100,\n",
    "            \"8 - Precisão(%)\": np.mean(precisions)*100\n",
    "        })\n",
    "\n",
    "    return pd.DataFrame(acc_results).round(1), pd.DataFrame(metrics_results).round(1)"
   ]
  },
  {
   "cell_type": "markdown",
   "metadata": {},
   "source": [
    "Para garantir uma melhor comparação entre os experimentos com as próximas etapas do relatório, geramos 100 permutações dos índices para serem utilizadas nos experimentos, a fim de garantir que em, todos eles, os mesmos conjuntos de treino e sejam utilizados."
   ]
  },
  {
   "cell_type": "code",
   "execution_count": 30,
   "metadata": {},
   "outputs": [
    {
     "data": {
      "text/plain": [
       "array([ 94,  37, 167, 185,  49, 164, 170, 106,  14, 115,  76, 136,  36,\n",
       "       104,   3,  11, 105, 144, 149,  26,  15, 116,  79,  86, 100,  29,\n",
       "       112,   1,  33,  40, 190, 186, 187, 124, 119, 132,  97,  98, 131,\n",
       "        99,  63, 120,  72, 107,  23, 122, 137, 109,  60, 194, 123, 179,\n",
       "        92, 161, 182,  13, 134, 162,  84,  10,  96,  80, 155,  39, 129,\n",
       "       183,  52, 163,  32, 145,  88, 113, 121,  77,  65, 180,  82,  12,\n",
       "       175,  89,  91, 171, 127,  75,  58, 114, 177,  68,   0, 135,   9,\n",
       "        50, 125,  53, 118, 157,  74, 178, 148,  47, 126,  87, 102,  19,\n",
       "        71,  62,   7,  44, 108, 188, 151, 184,  69,  73, 168,  78,  42,\n",
       "       110, 139,  38,  45,  64,  34, 153, 165, 140,  57,  17,  21,  24,\n",
       "        16,  54,  83,  35,  67, 130, 172,  90, 128,  93,   4,  30,  95,\n",
       "       143,  25,  41,   5,  46, 181,   8,  28, 150,  31, 101, 158,  20,\n",
       "       159, 138,  70, 156,  27,  56, 192, 189, 173,   6,  51,  66, 147,\n",
       "       141, 193, 169, 166,  81,  18,  55, 176,  43, 160,   2,  85, 142,\n",
       "       152, 103, 133, 174, 154, 117,  59, 146, 191, 111,  61,  22,  48])"
      ]
     },
     "execution_count": 30,
     "metadata": {},
     "output_type": "execute_result"
    }
   ],
   "source": [
    "experiments_indices = [np.random.permutation(range(data.shape[0])) for _ in range(100)]\n",
    "experiments_indices[0]"
   ]
  },
  {
   "cell_type": "markdown",
   "metadata": {},
   "source": [
    "Executando os experimentos, obtemos as seguintes informações sobre as acurácias dos algoritmos:"
   ]
  },
  {
   "cell_type": "code",
   "execution_count": 31,
   "metadata": {},
   "outputs": [
    {
     "data": {
      "text/html": [
       "<div>\n",
       "<style>\n",
       "    .dataframe thead tr:only-child th {\n",
       "        text-align: right;\n",
       "    }\n",
       "\n",
       "    .dataframe thead th {\n",
       "        text-align: left;\n",
       "    }\n",
       "\n",
       "    .dataframe tbody tr th {\n",
       "        vertical-align: top;\n",
       "    }\n",
       "</style>\n",
       "<table border=\"1\" class=\"dataframe\">\n",
       "  <thead>\n",
       "    <tr style=\"text-align: right;\">\n",
       "      <th></th>\n",
       "      <th>1 - Alg</th>\n",
       "      <th>2 - Média(%)</th>\n",
       "      <th>3 - Mediana(%)</th>\n",
       "      <th>4 - Min/Max(%)</th>\n",
       "      <th>5 - Desv. Pad.(%)</th>\n",
       "    </tr>\n",
       "  </thead>\n",
       "  <tbody>\n",
       "    <tr>\n",
       "      <th>0</th>\n",
       "      <td>NB</td>\n",
       "      <td>69.8</td>\n",
       "      <td>69.2</td>\n",
       "      <td>53.8 / 82.1</td>\n",
       "      <td>6.3</td>\n",
       "    </tr>\n",
       "    <tr>\n",
       "      <th>1</th>\n",
       "      <td>CQ(P)</td>\n",
       "      <td>64.3</td>\n",
       "      <td>74.4</td>\n",
       "      <td>15.4 / 87.2</td>\n",
       "      <td>21.5</td>\n",
       "    </tr>\n",
       "    <tr>\n",
       "      <th>2</th>\n",
       "      <td>CQG(P)</td>\n",
       "      <td>64.3</td>\n",
       "      <td>74.4</td>\n",
       "      <td>15.4 / 87.2</td>\n",
       "      <td>21.5</td>\n",
       "    </tr>\n",
       "    <tr>\n",
       "      <th>3</th>\n",
       "      <td>CQ(F)</td>\n",
       "      <td>25.6</td>\n",
       "      <td>25.6</td>\n",
       "      <td>12.8 / 84.6</td>\n",
       "      <td>8.4</td>\n",
       "    </tr>\n",
       "    <tr>\n",
       "      <th>4</th>\n",
       "      <td>CQG(F)</td>\n",
       "      <td>72.8</td>\n",
       "      <td>76.9</td>\n",
       "      <td>12.8 / 89.7</td>\n",
       "      <td>13.9</td>\n",
       "    </tr>\n",
       "    <tr>\n",
       "      <th>5</th>\n",
       "      <td>DMC</td>\n",
       "      <td>71.7</td>\n",
       "      <td>71.8</td>\n",
       "      <td>56.4 / 84.6</td>\n",
       "      <td>5.6</td>\n",
       "    </tr>\n",
       "    <tr>\n",
       "      <th>6</th>\n",
       "      <td>KNN(k=11)</td>\n",
       "      <td>80.5</td>\n",
       "      <td>82.1</td>\n",
       "      <td>69.2 / 92.3</td>\n",
       "      <td>4.7</td>\n",
       "    </tr>\n",
       "    <tr>\n",
       "      <th>7</th>\n",
       "      <td>NN</td>\n",
       "      <td>84.7</td>\n",
       "      <td>84.6</td>\n",
       "      <td>74.4 / 97.4</td>\n",
       "      <td>5.1</td>\n",
       "    </tr>\n",
       "  </tbody>\n",
       "</table>\n",
       "</div>"
      ],
      "text/plain": [
       "     1 - Alg  2 - Média(%)  3 - Mediana(%) 4 - Min/Max(%)  5 - Desv. Pad.(%)\n",
       "0         NB          69.8            69.2    53.8 / 82.1                6.3\n",
       "1      CQ(P)          64.3            74.4    15.4 / 87.2               21.5\n",
       "2     CQG(P)          64.3            74.4    15.4 / 87.2               21.5\n",
       "3      CQ(F)          25.6            25.6    12.8 / 84.6                8.4\n",
       "4     CQG(F)          72.8            76.9    12.8 / 89.7               13.9\n",
       "5        DMC          71.7            71.8    56.4 / 84.6                5.6\n",
       "6  KNN(k=11)          80.5            82.1    69.2 / 92.3                4.7\n",
       "7         NN          84.7            84.6    74.4 / 97.4                5.1"
      ]
     },
     "execution_count": 31,
     "metadata": {},
     "output_type": "execute_result"
    }
   ],
   "source": [
    "acc_df, metrics_df = run_experiments(data,experiments_indices)\n",
    "acc_df"
   ]
  },
  {
   "cell_type": "markdown",
   "metadata": {},
   "source": [
    "Obtemos, também, as seguintes métricas:"
   ]
  },
  {
   "cell_type": "code",
   "execution_count": 32,
   "metadata": {},
   "outputs": [
    {
     "data": {
      "text/html": [
       "<div>\n",
       "<style>\n",
       "    .dataframe thead tr:only-child th {\n",
       "        text-align: right;\n",
       "    }\n",
       "\n",
       "    .dataframe thead th {\n",
       "        text-align: left;\n",
       "    }\n",
       "\n",
       "    .dataframe tbody tr th {\n",
       "        vertical-align: top;\n",
       "    }\n",
       "</style>\n",
       "<table border=\"1\" class=\"dataframe\">\n",
       "  <thead>\n",
       "    <tr style=\"text-align: right;\">\n",
       "      <th></th>\n",
       "      <th>1 - Alg</th>\n",
       "      <th>6 - Sensibilidade(%)</th>\n",
       "      <th>7 - Especificidade(%)</th>\n",
       "      <th>8 - Precisão(%)</th>\n",
       "    </tr>\n",
       "  </thead>\n",
       "  <tbody>\n",
       "    <tr>\n",
       "      <th>0</th>\n",
       "      <td>NB</td>\n",
       "      <td>62.8</td>\n",
       "      <td>90.7</td>\n",
       "      <td>95.5</td>\n",
       "    </tr>\n",
       "    <tr>\n",
       "      <th>1</th>\n",
       "      <td>CQ(P)</td>\n",
       "      <td>77.0</td>\n",
       "      <td>23.0</td>\n",
       "      <td>58.2</td>\n",
       "    </tr>\n",
       "    <tr>\n",
       "      <th>2</th>\n",
       "      <td>CQG(P)</td>\n",
       "      <td>77.0</td>\n",
       "      <td>23.0</td>\n",
       "      <td>58.2</td>\n",
       "    </tr>\n",
       "    <tr>\n",
       "      <th>3</th>\n",
       "      <td>CQ(F)</td>\n",
       "      <td>1.0</td>\n",
       "      <td>99.0</td>\n",
       "      <td>0.8</td>\n",
       "    </tr>\n",
       "    <tr>\n",
       "      <th>4</th>\n",
       "      <td>CQG(F)</td>\n",
       "      <td>82.8</td>\n",
       "      <td>42.4</td>\n",
       "      <td>80.6</td>\n",
       "    </tr>\n",
       "    <tr>\n",
       "      <th>5</th>\n",
       "      <td>DMC</td>\n",
       "      <td>75.1</td>\n",
       "      <td>61.3</td>\n",
       "      <td>85.5</td>\n",
       "    </tr>\n",
       "    <tr>\n",
       "      <th>6</th>\n",
       "      <td>KNN(k=11)</td>\n",
       "      <td>95.9</td>\n",
       "      <td>34.2</td>\n",
       "      <td>81.6</td>\n",
       "    </tr>\n",
       "    <tr>\n",
       "      <th>7</th>\n",
       "      <td>NN</td>\n",
       "      <td>90.0</td>\n",
       "      <td>69.4</td>\n",
       "      <td>89.7</td>\n",
       "    </tr>\n",
       "  </tbody>\n",
       "</table>\n",
       "</div>"
      ],
      "text/plain": [
       "     1 - Alg  6 - Sensibilidade(%)  7 - Especificidade(%)  8 - Precisão(%)\n",
       "0         NB                  62.8                   90.7             95.5\n",
       "1      CQ(P)                  77.0                   23.0             58.2\n",
       "2     CQG(P)                  77.0                   23.0             58.2\n",
       "3      CQ(F)                   1.0                   99.0              0.8\n",
       "4     CQG(F)                  82.8                   42.4             80.6\n",
       "5        DMC                  75.1                   61.3             85.5\n",
       "6  KNN(k=11)                  95.9                   34.2             81.6\n",
       "7         NN                  90.0                   69.4             89.7"
      ]
     },
     "execution_count": 32,
     "metadata": {},
     "output_type": "execute_result"
    }
   ],
   "source": [
    "metrics_df"
   ]
  },
  {
   "cell_type": "markdown",
   "metadata": {},
   "source": [
    "Analisando as tabelas dos experimentos, podemos dizer que:\n",
    "* O NN foi o que teve o melhor acurácia média;\n",
    "* O KNN teve resultados mais constantes, possuindo menor desvio padrão;\n",
    "* O KNN foi o mais sensível;\n",
    "* O CQ(F) foi o mais específico;\n",
    "* O NB foi o mais preciso."
   ]
  },
  {
   "cell_type": "markdown",
   "metadata": {},
   "source": [
    "# Normalização de dados\n",
    "---\n",
    "\n",
    "Uma técnica que pode servir de auxílio para melhorar os resultados dos algoritmos é normalizar os dados. Para este exemplo, normalizaremos os atributos utilizando norma euclidiana."
   ]
  },
  {
   "cell_type": "code",
   "execution_count": 33,
   "metadata": {},
   "outputs": [
    {
     "data": {
      "text/plain": [
       "array([ 0.05381992,  0.05186168,  0.04325569,  0.07125738,  0.0894753 ,\n",
       "        0.05970461,  0.08995581,  0.05964837,  0.08908063,  0.08901622,\n",
       "        0.08377133,  0.1041168 ,  0.07231317,  0.08375863,  0.03343418,\n",
       "        0.06746194,  0.05833295,  0.08106413, -0.05955421,  0.07908342,\n",
       "        0.06832239,  0.09049198,  1.        ])"
      ]
     },
     "execution_count": 33,
     "metadata": {},
     "output_type": "execute_result"
    }
   ],
   "source": [
    "data = load_data()\n",
    "features = data[:,:-1]\n",
    "data[:,:-1] = features/np.linalg.norm(features,axis=0)\n",
    "data[0]"
   ]
  },
  {
   "cell_type": "code",
   "execution_count": 34,
   "metadata": {},
   "outputs": [
    {
     "data": {
      "text/html": [
       "<div>\n",
       "<style>\n",
       "    .dataframe thead tr:only-child th {\n",
       "        text-align: right;\n",
       "    }\n",
       "\n",
       "    .dataframe thead th {\n",
       "        text-align: left;\n",
       "    }\n",
       "\n",
       "    .dataframe tbody tr th {\n",
       "        vertical-align: top;\n",
       "    }\n",
       "</style>\n",
       "<table border=\"1\" class=\"dataframe\">\n",
       "  <thead>\n",
       "    <tr style=\"text-align: right;\">\n",
       "      <th></th>\n",
       "      <th>1 - Alg</th>\n",
       "      <th>2 - Média(%)</th>\n",
       "      <th>3 - Mediana(%)</th>\n",
       "      <th>4 - Min/Max(%)</th>\n",
       "      <th>5 - Desv. Pad.(%)</th>\n",
       "    </tr>\n",
       "  </thead>\n",
       "  <tbody>\n",
       "    <tr>\n",
       "      <th>0</th>\n",
       "      <td>NB</td>\n",
       "      <td>70.5</td>\n",
       "      <td>69.2</td>\n",
       "      <td>56.4 / 89.7</td>\n",
       "      <td>6.7</td>\n",
       "    </tr>\n",
       "    <tr>\n",
       "      <th>1</th>\n",
       "      <td>CQ(P)</td>\n",
       "      <td>65.3</td>\n",
       "      <td>71.8</td>\n",
       "      <td>15.4 / 89.7</td>\n",
       "      <td>20.7</td>\n",
       "    </tr>\n",
       "    <tr>\n",
       "      <th>2</th>\n",
       "      <td>CQG(P)</td>\n",
       "      <td>65.3</td>\n",
       "      <td>71.8</td>\n",
       "      <td>15.4 / 89.7</td>\n",
       "      <td>20.7</td>\n",
       "    </tr>\n",
       "    <tr>\n",
       "      <th>3</th>\n",
       "      <td>CQ(F)</td>\n",
       "      <td>75.0</td>\n",
       "      <td>74.4</td>\n",
       "      <td>61.5 / 89.7</td>\n",
       "      <td>6.1</td>\n",
       "    </tr>\n",
       "    <tr>\n",
       "      <th>4</th>\n",
       "      <td>CQG(F)</td>\n",
       "      <td>33.9</td>\n",
       "      <td>33.3</td>\n",
       "      <td>15.4 / 61.5</td>\n",
       "      <td>10.0</td>\n",
       "    </tr>\n",
       "    <tr>\n",
       "      <th>5</th>\n",
       "      <td>DMC</td>\n",
       "      <td>69.3</td>\n",
       "      <td>69.2</td>\n",
       "      <td>56.4 / 84.6</td>\n",
       "      <td>6.9</td>\n",
       "    </tr>\n",
       "    <tr>\n",
       "      <th>6</th>\n",
       "      <td>KNN(k=11)</td>\n",
       "      <td>86.1</td>\n",
       "      <td>87.2</td>\n",
       "      <td>71.8 / 97.4</td>\n",
       "      <td>5.3</td>\n",
       "    </tr>\n",
       "    <tr>\n",
       "      <th>7</th>\n",
       "      <td>NN</td>\n",
       "      <td>91.0</td>\n",
       "      <td>92.3</td>\n",
       "      <td>76.9 / 100.0</td>\n",
       "      <td>4.6</td>\n",
       "    </tr>\n",
       "  </tbody>\n",
       "</table>\n",
       "</div>"
      ],
      "text/plain": [
       "     1 - Alg  2 - Média(%)  3 - Mediana(%) 4 - Min/Max(%)  5 - Desv. Pad.(%)\n",
       "0         NB          70.5            69.2    56.4 / 89.7                6.7\n",
       "1      CQ(P)          65.3            71.8    15.4 / 89.7               20.7\n",
       "2     CQG(P)          65.3            71.8    15.4 / 89.7               20.7\n",
       "3      CQ(F)          75.0            74.4    61.5 / 89.7                6.1\n",
       "4     CQG(F)          33.9            33.3    15.4 / 61.5               10.0\n",
       "5        DMC          69.3            69.2    56.4 / 84.6                6.9\n",
       "6  KNN(k=11)          86.1            87.2    71.8 / 97.4                5.3\n",
       "7         NN          91.0            92.3   76.9 / 100.0                4.6"
      ]
     },
     "execution_count": 34,
     "metadata": {},
     "output_type": "execute_result"
    }
   ],
   "source": [
    "acc_df, metrics_df = run_experiments(data,experiments_indices)\n",
    "acc_df"
   ]
  },
  {
   "cell_type": "code",
   "execution_count": 35,
   "metadata": {},
   "outputs": [
    {
     "data": {
      "text/html": [
       "<div>\n",
       "<style>\n",
       "    .dataframe thead tr:only-child th {\n",
       "        text-align: right;\n",
       "    }\n",
       "\n",
       "    .dataframe thead th {\n",
       "        text-align: left;\n",
       "    }\n",
       "\n",
       "    .dataframe tbody tr th {\n",
       "        vertical-align: top;\n",
       "    }\n",
       "</style>\n",
       "<table border=\"1\" class=\"dataframe\">\n",
       "  <thead>\n",
       "    <tr style=\"text-align: right;\">\n",
       "      <th></th>\n",
       "      <th>1 - Alg</th>\n",
       "      <th>6 - Sensibilidade(%)</th>\n",
       "      <th>7 - Especificidade(%)</th>\n",
       "      <th>8 - Precisão(%)</th>\n",
       "    </tr>\n",
       "  </thead>\n",
       "  <tbody>\n",
       "    <tr>\n",
       "      <th>0</th>\n",
       "      <td>NB</td>\n",
       "      <td>64.3</td>\n",
       "      <td>90.0</td>\n",
       "      <td>95.0</td>\n",
       "    </tr>\n",
       "    <tr>\n",
       "      <th>1</th>\n",
       "      <td>CQ(P)</td>\n",
       "      <td>81.0</td>\n",
       "      <td>19.0</td>\n",
       "      <td>60.6</td>\n",
       "    </tr>\n",
       "    <tr>\n",
       "      <th>2</th>\n",
       "      <td>CQG(P)</td>\n",
       "      <td>81.0</td>\n",
       "      <td>19.0</td>\n",
       "      <td>60.6</td>\n",
       "    </tr>\n",
       "    <tr>\n",
       "      <th>3</th>\n",
       "      <td>CQ(F)</td>\n",
       "      <td>100.0</td>\n",
       "      <td>0.0</td>\n",
       "      <td>75.0</td>\n",
       "    </tr>\n",
       "    <tr>\n",
       "      <th>4</th>\n",
       "      <td>CQG(F)</td>\n",
       "      <td>24.3</td>\n",
       "      <td>62.3</td>\n",
       "      <td>65.7</td>\n",
       "    </tr>\n",
       "    <tr>\n",
       "      <th>5</th>\n",
       "      <td>DMC</td>\n",
       "      <td>63.3</td>\n",
       "      <td>87.7</td>\n",
       "      <td>94.0</td>\n",
       "    </tr>\n",
       "    <tr>\n",
       "      <th>6</th>\n",
       "      <td>KNN(k=11)</td>\n",
       "      <td>95.8</td>\n",
       "      <td>58.0</td>\n",
       "      <td>87.1</td>\n",
       "    </tr>\n",
       "    <tr>\n",
       "      <th>7</th>\n",
       "      <td>NN</td>\n",
       "      <td>93.4</td>\n",
       "      <td>84.4</td>\n",
       "      <td>94.5</td>\n",
       "    </tr>\n",
       "  </tbody>\n",
       "</table>\n",
       "</div>"
      ],
      "text/plain": [
       "     1 - Alg  6 - Sensibilidade(%)  7 - Especificidade(%)  8 - Precisão(%)\n",
       "0         NB                  64.3                   90.0             95.0\n",
       "1      CQ(P)                  81.0                   19.0             60.6\n",
       "2     CQG(P)                  81.0                   19.0             60.6\n",
       "3      CQ(F)                 100.0                    0.0             75.0\n",
       "4     CQG(F)                  24.3                   62.3             65.7\n",
       "5        DMC                  63.3                   87.7             94.0\n",
       "6  KNN(k=11)                  95.8                   58.0             87.1\n",
       "7         NN                  93.4                   84.4             94.5"
      ]
     },
     "execution_count": 35,
     "metadata": {},
     "output_type": "execute_result"
    }
   ],
   "source": [
    "metrics_df"
   ]
  },
  {
   "cell_type": "markdown",
   "metadata": {},
   "source": [
    "Analisando as tabelas dos experimentos, podemos dizer que:\n",
    "* O NN foi o que teve o melhor acurácia média;\n",
    "* O KNN e NN tiveram resultados mais constantes, possuindo menor desvio padrão;\n",
    "* O CQ(F) foi o mais sensível;\n",
    "* O NB foi o mais específico;\n",
    "* O NB e o NN foram os mais precisos.\n",
    "\n",
    "Em termos de acurácia, os mesmos algoritmos se sobressaíram em relação aos dados originais, porém obtivemos uma melhoria na acurácia média."
   ]
  },
  {
   "cell_type": "markdown",
   "metadata": {},
   "source": [
    "# Análise de Componentes Principais (PCA)\n",
    "---\n",
    "\n",
    "A análise de componentes principais visa reduzir a dimensão dos dados. Podemos aplicá-la para reduzir o esforço computacional dos algoritmos sacrificando(ou não), uma pequena fração da acurácia."
   ]
  },
  {
   "cell_type": "markdown",
   "metadata": {},
   "source": [
    "Primeiramente, vamos recarregar os dados."
   ]
  },
  {
   "cell_type": "code",
   "execution_count": 36,
   "metadata": {},
   "outputs": [
    {
     "data": {
      "text/plain": [
       "array([  1.19992000e+02,   1.57302000e+02,   7.49970000e+01,\n",
       "         7.84000000e-03,   7.00000000e-05,   3.70000000e-03,\n",
       "         5.54000000e-03,   1.10900000e-02,   4.37400000e-02,\n",
       "         4.26000000e-01,   2.18200000e-02,   3.13000000e-02,\n",
       "         2.97100000e-02,   6.54500000e-02,   2.21100000e-02,\n",
       "         2.10330000e+01,   4.14783000e-01,   8.15285000e-01,\n",
       "        -4.81303100e+00,   2.66482000e-01,   2.30144200e+00,\n",
       "         2.84654000e-01,   1.00000000e+00])"
      ]
     },
     "execution_count": 36,
     "metadata": {},
     "output_type": "execute_result"
    }
   ],
   "source": [
    "data = load_data()\n",
    "data[0]"
   ]
  },
  {
   "cell_type": "markdown",
   "metadata": {},
   "source": [
    "Em seguida, precisamos centralizar os dados. Para isso, devemos subtrair os vetores das amostras pelo vetor da média dos dados."
   ]
  },
  {
   "cell_type": "code",
   "execution_count": 37,
   "metadata": {},
   "outputs": [
    {
     "data": {
      "text/plain": [
       "array([ -2.49236529e-14,  -4.66407539e-14,   5.02845628e-15,\n",
       "        -3.29597460e-18,  -1.74619100e-20,  -1.34997071e-18,\n",
       "        -2.35744472e-19,   6.18273239e-18,   3.09581420e-18,\n",
       "        -3.10293102e-17,   1.02304205e-18,  -7.09902222e-18,\n",
       "        -5.87137176e-19,   1.58882878e-17,   4.62592927e-19,\n",
       "        -7.41515111e-15,   9.84967094e-17,  -2.94351438e-16,\n",
       "        -4.73695157e-16,   1.61978693e-16,  -2.11796392e-16,\n",
       "        -2.41971685e-17])"
      ]
     },
     "execution_count": 37,
     "metadata": {},
     "output_type": "execute_result"
    }
   ],
   "source": [
    "mean = np.mean(data[:,:-1], axis=0)\n",
    "data[:,:-1] = data[:,:-1] - mean\n",
    "np.mean(data[:,:-1], axis=0)"
   ]
  },
  {
   "cell_type": "markdown",
   "metadata": {},
   "source": [
    "Com os dados centralizados, calculamos sua matriz de covariância."
   ]
  },
  {
   "cell_type": "code",
   "execution_count": 38,
   "metadata": {
    "collapsed": true
   },
   "outputs": [],
   "source": [
    "cov = np.matmul(data[:,:-1].transpose(),data[:,:-1])"
   ]
  },
  {
   "cell_type": "markdown",
   "metadata": {},
   "source": [
    "Devemos então encontrar os autovetores e os autovalores da matriz de covariância."
   ]
  },
  {
   "cell_type": "code",
   "execution_count": 39,
   "metadata": {},
   "outputs": [
    {
     "data": {
      "text/plain": [
       "array([  1.69694607e+06,   5.08028884e+05,   1.18998975e+05,\n",
       "         3.70992640e+03,   9.30927495e+01,   1.42299877e+01,\n",
       "         2.38000515e+00,   1.09468329e+00,   6.15634482e-01,\n",
       "         2.68866853e-01,   1.04244929e-01,   8.21629685e-02,\n",
       "         1.37375806e-02,   3.08815071e-03,   1.49834231e-03,\n",
       "         5.94082820e-04,   9.76909931e-05,   3.98365688e-05,\n",
       "         1.13400559e-05,   5.06836169e-09,   1.04230725e-09,\n",
       "         1.26793148e-09])"
      ]
     },
     "execution_count": 39,
     "metadata": {},
     "output_type": "execute_result"
    }
   ],
   "source": [
    "values, vectors = np.linalg.eig(cov)\n",
    "values"
   ]
  },
  {
   "cell_type": "markdown",
   "metadata": {},
   "source": [
    "Os autovalores correspondem às variâncias dos atributos dos dados. Portanto, se escolhermos os *k* primeiros autovalores, manteremos uma fração dessa variância e reduziremos a dimensão dos dados."
   ]
  },
  {
   "cell_type": "code",
   "execution_count": 40,
   "metadata": {},
   "outputs": [
    {
     "name": "stdout",
     "output_type": "stream",
     "text": [
      "Porcentagem da variância preservada até o 1º autovalor: 72.90% \n",
      "Porcentagem da variância preservada até o 2º autovalor: 94.72% \n",
      "Porcentagem da variância preservada até o 3º autovalor: 99.84% \n",
      "Porcentagem da variância preservada até o 4º autovalor: 100.00% \n",
      "Porcentagem da variância preservada até o 5º autovalor: 100.00% \n",
      "Porcentagem da variância preservada até o 6º autovalor: 100.00% \n",
      "Porcentagem da variância preservada até o 7º autovalor: 100.00% \n",
      "Porcentagem da variância preservada até o 8º autovalor: 100.00% \n",
      "Porcentagem da variância preservada até o 9º autovalor: 100.00% \n",
      "Porcentagem da variância preservada até o 10º autovalor: 100.00% \n",
      "Porcentagem da variância preservada até o 11º autovalor: 100.00% \n",
      "Porcentagem da variância preservada até o 12º autovalor: 100.00% \n",
      "Porcentagem da variância preservada até o 13º autovalor: 100.00% \n",
      "Porcentagem da variância preservada até o 14º autovalor: 100.00% \n",
      "Porcentagem da variância preservada até o 15º autovalor: 100.00% \n",
      "Porcentagem da variância preservada até o 16º autovalor: 100.00% \n",
      "Porcentagem da variância preservada até o 17º autovalor: 100.00% \n",
      "Porcentagem da variância preservada até o 18º autovalor: 100.00% \n",
      "Porcentagem da variância preservada até o 19º autovalor: 100.00% \n",
      "Porcentagem da variância preservada até o 20º autovalor: 100.00% \n",
      "Porcentagem da variância preservada até o 21º autovalor: 100.00% \n",
      "Porcentagem da variância preservada até o 22º autovalor: 100.00% \n"
     ]
    }
   ],
   "source": [
    "values = values/sum(values)\n",
    "for i in range(1,23):\n",
    "    print(\"Porcentagem da variância preservada até o {}º autovalor: {:.2f}% \".format(i,100*sum(values[0:i])))"
   ]
  },
  {
   "cell_type": "markdown",
   "metadata": {},
   "source": [
    "Podemos ver que os 4 primeiros autovalores representam, aproximadamente, 100% da variância. Portanto, utilizaremos os 4 primeiros autovetores para transformar os dados."
   ]
  },
  {
   "cell_type": "code",
   "execution_count": 41,
   "metadata": {},
   "outputs": [
    {
     "data": {
      "text/plain": [
       "(195, 5)"
      ]
     },
     "execution_count": 41,
     "metadata": {},
     "output_type": "execute_result"
    }
   ],
   "source": [
    "pca_vectors = vectors[:,:4]\n",
    "pca_vectors.shape\n",
    "\n",
    "data = np.c_[np.matmul(data[:,:-1],pca_vectors), data[:,-1]]\n",
    "data.shape"
   ]
  },
  {
   "cell_type": "markdown",
   "metadata": {},
   "source": [
    "Com os dados transformados, podemos executar novamente os experimentos, obtendo as seguintes informações sobre as acurácias:"
   ]
  },
  {
   "cell_type": "code",
   "execution_count": 42,
   "metadata": {},
   "outputs": [
    {
     "data": {
      "text/html": [
       "<div>\n",
       "<style>\n",
       "    .dataframe thead tr:only-child th {\n",
       "        text-align: right;\n",
       "    }\n",
       "\n",
       "    .dataframe thead th {\n",
       "        text-align: left;\n",
       "    }\n",
       "\n",
       "    .dataframe tbody tr th {\n",
       "        vertical-align: top;\n",
       "    }\n",
       "</style>\n",
       "<table border=\"1\" class=\"dataframe\">\n",
       "  <thead>\n",
       "    <tr style=\"text-align: right;\">\n",
       "      <th></th>\n",
       "      <th>1 - Alg</th>\n",
       "      <th>2 - Média(%)</th>\n",
       "      <th>3 - Mediana(%)</th>\n",
       "      <th>4 - Min/Max(%)</th>\n",
       "      <th>5 - Desv. Pad.(%)</th>\n",
       "    </tr>\n",
       "  </thead>\n",
       "  <tbody>\n",
       "    <tr>\n",
       "      <th>0</th>\n",
       "      <td>NB</td>\n",
       "      <td>79.4</td>\n",
       "      <td>79.5</td>\n",
       "      <td>61.5 / 89.7</td>\n",
       "      <td>5.4</td>\n",
       "    </tr>\n",
       "    <tr>\n",
       "      <th>1</th>\n",
       "      <td>CQ(P)</td>\n",
       "      <td>65.3</td>\n",
       "      <td>71.8</td>\n",
       "      <td>15.4 / 89.7</td>\n",
       "      <td>20.7</td>\n",
       "    </tr>\n",
       "    <tr>\n",
       "      <th>2</th>\n",
       "      <td>CQG(P)</td>\n",
       "      <td>65.3</td>\n",
       "      <td>71.8</td>\n",
       "      <td>15.4 / 89.7</td>\n",
       "      <td>20.7</td>\n",
       "    </tr>\n",
       "    <tr>\n",
       "      <th>3</th>\n",
       "      <td>CQ(F)</td>\n",
       "      <td>25.8</td>\n",
       "      <td>25.6</td>\n",
       "      <td>10.3 / 76.9</td>\n",
       "      <td>8.8</td>\n",
       "    </tr>\n",
       "    <tr>\n",
       "      <th>4</th>\n",
       "      <td>CQG(F)</td>\n",
       "      <td>73.0</td>\n",
       "      <td>76.9</td>\n",
       "      <td>20.5 / 92.3</td>\n",
       "      <td>14.2</td>\n",
       "    </tr>\n",
       "    <tr>\n",
       "      <th>5</th>\n",
       "      <td>DMC</td>\n",
       "      <td>71.8</td>\n",
       "      <td>71.8</td>\n",
       "      <td>56.4 / 84.6</td>\n",
       "      <td>5.6</td>\n",
       "    </tr>\n",
       "    <tr>\n",
       "      <th>6</th>\n",
       "      <td>KNN(k=11)</td>\n",
       "      <td>81.6</td>\n",
       "      <td>82.1</td>\n",
       "      <td>66.7 / 94.9</td>\n",
       "      <td>6.0</td>\n",
       "    </tr>\n",
       "    <tr>\n",
       "      <th>7</th>\n",
       "      <td>NN</td>\n",
       "      <td>83.2</td>\n",
       "      <td>82.1</td>\n",
       "      <td>69.2 / 94.9</td>\n",
       "      <td>6.0</td>\n",
       "    </tr>\n",
       "  </tbody>\n",
       "</table>\n",
       "</div>"
      ],
      "text/plain": [
       "     1 - Alg  2 - Média(%)  3 - Mediana(%) 4 - Min/Max(%)  5 - Desv. Pad.(%)\n",
       "0         NB          79.4            79.5    61.5 / 89.7                5.4\n",
       "1      CQ(P)          65.3            71.8    15.4 / 89.7               20.7\n",
       "2     CQG(P)          65.3            71.8    15.4 / 89.7               20.7\n",
       "3      CQ(F)          25.8            25.6    10.3 / 76.9                8.8\n",
       "4     CQG(F)          73.0            76.9    20.5 / 92.3               14.2\n",
       "5        DMC          71.8            71.8    56.4 / 84.6                5.6\n",
       "6  KNN(k=11)          81.6            82.1    66.7 / 94.9                6.0\n",
       "7         NN          83.2            82.1    69.2 / 94.9                6.0"
      ]
     },
     "execution_count": 42,
     "metadata": {},
     "output_type": "execute_result"
    }
   ],
   "source": [
    "acc_df, metrics_df = run_experiments(data,experiments_indices)\n",
    "acc_df"
   ]
  },
  {
   "cell_type": "markdown",
   "metadata": {},
   "source": [
    "Obtemos, também, as seguintes métricas:"
   ]
  },
  {
   "cell_type": "code",
   "execution_count": 43,
   "metadata": {},
   "outputs": [
    {
     "data": {
      "text/html": [
       "<div>\n",
       "<style>\n",
       "    .dataframe thead tr:only-child th {\n",
       "        text-align: right;\n",
       "    }\n",
       "\n",
       "    .dataframe thead th {\n",
       "        text-align: left;\n",
       "    }\n",
       "\n",
       "    .dataframe tbody tr th {\n",
       "        vertical-align: top;\n",
       "    }\n",
       "</style>\n",
       "<table border=\"1\" class=\"dataframe\">\n",
       "  <thead>\n",
       "    <tr style=\"text-align: right;\">\n",
       "      <th></th>\n",
       "      <th>1 - Alg</th>\n",
       "      <th>6 - Sensibilidade(%)</th>\n",
       "      <th>7 - Especificidade(%)</th>\n",
       "      <th>8 - Precisão(%)</th>\n",
       "    </tr>\n",
       "  </thead>\n",
       "  <tbody>\n",
       "    <tr>\n",
       "      <th>0</th>\n",
       "      <td>NB</td>\n",
       "      <td>88.8</td>\n",
       "      <td>51.5</td>\n",
       "      <td>84.7</td>\n",
       "    </tr>\n",
       "    <tr>\n",
       "      <th>1</th>\n",
       "      <td>CQ(P)</td>\n",
       "      <td>81.0</td>\n",
       "      <td>19.0</td>\n",
       "      <td>60.6</td>\n",
       "    </tr>\n",
       "    <tr>\n",
       "      <th>2</th>\n",
       "      <td>CQG(P)</td>\n",
       "      <td>81.0</td>\n",
       "      <td>19.0</td>\n",
       "      <td>60.6</td>\n",
       "    </tr>\n",
       "    <tr>\n",
       "      <th>3</th>\n",
       "      <td>CQ(F)</td>\n",
       "      <td>2.0</td>\n",
       "      <td>98.0</td>\n",
       "      <td>1.4</td>\n",
       "    </tr>\n",
       "    <tr>\n",
       "      <th>4</th>\n",
       "      <td>CQG(F)</td>\n",
       "      <td>82.5</td>\n",
       "      <td>44.2</td>\n",
       "      <td>80.7</td>\n",
       "    </tr>\n",
       "    <tr>\n",
       "      <th>5</th>\n",
       "      <td>DMC</td>\n",
       "      <td>74.3</td>\n",
       "      <td>65.1</td>\n",
       "      <td>86.6</td>\n",
       "    </tr>\n",
       "    <tr>\n",
       "      <th>6</th>\n",
       "      <td>KNN(k=11)</td>\n",
       "      <td>95.6</td>\n",
       "      <td>40.9</td>\n",
       "      <td>82.7</td>\n",
       "    </tr>\n",
       "    <tr>\n",
       "      <th>7</th>\n",
       "      <td>NN</td>\n",
       "      <td>88.8</td>\n",
       "      <td>67.2</td>\n",
       "      <td>88.9</td>\n",
       "    </tr>\n",
       "  </tbody>\n",
       "</table>\n",
       "</div>"
      ],
      "text/plain": [
       "     1 - Alg  6 - Sensibilidade(%)  7 - Especificidade(%)  8 - Precisão(%)\n",
       "0         NB                  88.8                   51.5             84.7\n",
       "1      CQ(P)                  81.0                   19.0             60.6\n",
       "2     CQG(P)                  81.0                   19.0             60.6\n",
       "3      CQ(F)                   2.0                   98.0              1.4\n",
       "4     CQG(F)                  82.5                   44.2             80.7\n",
       "5        DMC                  74.3                   65.1             86.6\n",
       "6  KNN(k=11)                  95.6                   40.9             82.7\n",
       "7         NN                  88.8                   67.2             88.9"
      ]
     },
     "execution_count": 43,
     "metadata": {},
     "output_type": "execute_result"
    }
   ],
   "source": [
    "metrics_df"
   ]
  },
  {
   "cell_type": "markdown",
   "metadata": {},
   "source": [
    "Analisando as tabelas dos experimentos, podemos dizer que:\n",
    "* O NN foi o que teve o melhor desempenho médio, seguido do KNN;\n",
    "* O NB e o DMC tiveram resultados mais constantes, possuindo menor desvio padrão;\n",
    "* O KNN foi o mais sensível;\n",
    "* O CQ(F) foi o mais específico;\n",
    "* O NN foi o mais preciso.\n",
    "\n",
    "Utilizando o PCA, obtivemos análises bem similares aos dados originais, porém utilizando apenas 4 colunas de dados, permitindo que algoritmos como o KNN e o NN sejam executados de maneira mais rápida."
   ]
  },
  {
   "cell_type": "markdown",
   "metadata": {},
   "source": [
    "# Discriminante Linear de Fisher (LDA)\n",
    "---\n",
    "\n",
    "Utilizaremos o *Discriminante Linear de Fisher*(LDA) para, também, reduzir a dimensionalidade dos dados.\n",
    "\n",
    "Inicialmente, precisamos recarregar os dados."
   ]
  },
  {
   "cell_type": "code",
   "execution_count": 44,
   "metadata": {},
   "outputs": [
    {
     "data": {
      "text/plain": [
       "array([  1.19992000e+02,   1.57302000e+02,   7.49970000e+01,\n",
       "         7.84000000e-03,   7.00000000e-05,   3.70000000e-03,\n",
       "         5.54000000e-03,   1.10900000e-02,   4.37400000e-02,\n",
       "         4.26000000e-01,   2.18200000e-02,   3.13000000e-02,\n",
       "         2.97100000e-02,   6.54500000e-02,   2.21100000e-02,\n",
       "         2.10330000e+01,   4.14783000e-01,   8.15285000e-01,\n",
       "        -4.81303100e+00,   2.66482000e-01,   2.30144200e+00,\n",
       "         2.84654000e-01,   1.00000000e+00])"
      ]
     },
     "execution_count": 44,
     "metadata": {},
     "output_type": "execute_result"
    }
   ],
   "source": [
    "data = load_data()\n",
    "data[0]"
   ]
  },
  {
   "cell_type": "markdown",
   "metadata": {},
   "source": [
    "Precisamos agora normalizar os dados, a fim de definir sua *média* como 0 e *desvio padrão* 1"
   ]
  },
  {
   "cell_type": "code",
   "execution_count": 45,
   "metadata": {
    "collapsed": true
   },
   "outputs": [],
   "source": [
    "def statistical_normalization(X):\n",
    "    m = np.mean(X, axis = 0)\n",
    "    std = np.std(X, axis = 0)\n",
    "    normalized_X = np.zeros((X.shape[0],X.shape[1]))\n",
    "    for i,x in enumerate(X):\n",
    "        normalized_X[i] = (x - m)/std\n",
    "        \n",
    "    return normalized_X"
   ]
  },
  {
   "cell_type": "code",
   "execution_count": 46,
   "metadata": {
    "collapsed": true
   },
   "outputs": [],
   "source": [
    "data[:,:-1] = statistical_normalization(data[:,:-1])"
   ]
  },
  {
   "cell_type": "markdown",
   "metadata": {},
   "source": [
    "Em seguida, precisamos separar os dados de acordo com suas classes."
   ]
  },
  {
   "cell_type": "code",
   "execution_count": 47,
   "metadata": {
    "collapsed": true
   },
   "outputs": [],
   "source": [
    "classes = {}\n",
    "for (x,y) in zip(data[:,:-1],data[:,-1]):\n",
    "    if not y in classes:\n",
    "        classes[y] = []\n",
    "\n",
    "    classes[y].append(x)\n",
    "\n",
    "classes = {k: np.array(classes[k]) for k in classes}"
   ]
  },
  {
   "cell_type": "markdown",
   "metadata": {},
   "source": [
    "Precisamos também calcular as matrizes de *Dispersão Intraclasse*(Sw) e *Dispersão Interclasse*(Sb)."
   ]
  },
  {
   "cell_type": "code",
   "execution_count": 48,
   "metadata": {},
   "outputs": [
    {
     "data": {
      "text/plain": [
       "((22, 22), (22, 22))"
      ]
     },
     "execution_count": 48,
     "metadata": {},
     "output_type": "execute_result"
    }
   ],
   "source": [
    "n = data.shape[1]-1\n",
    "\n",
    "sw = np.zeros((n,n))\n",
    "m = np.mean(data[:,:-1],axis=0)\n",
    "sb = np.zeros((n,n))\n",
    "\n",
    "for k in classes:\n",
    "    ni = classes[k].shape[0]\n",
    "    mi = np.mean(classes[k],axis=0).reshape(n,1)\n",
    "    mm = mi-m\n",
    "#     sb += ni*np.outer(mi-m,mi-m)\n",
    "    sb += ni * mm.dot(mm.T)\n",
    "    \n",
    "    s = np.zeros((n,n))\n",
    "    for x in classes[k]:\n",
    "        z = (x.reshape(n,1)-mi)\n",
    "#         s += np.outer(z,z)\n",
    "        s += z.dot(z.T)\n",
    "    sw += s\n",
    "    \n",
    "sw.shape,sb.shape"
   ]
  },
  {
   "cell_type": "markdown",
   "metadata": {},
   "source": [
    "Agora, encontramos os autovetores e autovalroes da matriz resultante pela multiplicação da inversa da matriz *Sw* pela matriz *Sb*."
   ]
  },
  {
   "cell_type": "code",
   "execution_count": 49,
   "metadata": {},
   "outputs": [
    {
     "data": {
      "text/plain": [
       "((21.370564756313655+0j),\n",
       " array([ 0.00757913+0.j        , -0.00799738+0.j        ,\n",
       "        -0.02553211+0.j        ,  0.02052120+0.j        ,\n",
       "        -0.04387169+0.j        ,  0.03212937+0.j        ,\n",
       "         0.04855825+0.j        , -0.06365877+0.j        ,\n",
       "         0.00244332-0.01624295j,  0.00244332+0.01624295j,\n",
       "         0.06551195+0.j        , -0.12504937+0.j        ,\n",
       "        -0.05294780+0.12125812j, -0.05294780-0.12125812j,\n",
       "        -0.16683387+0.j        , -0.07626539-0.07070661j,\n",
       "        -0.07626539+0.07070661j, -0.03248178+0.00682602j,\n",
       "        -0.03248178-0.00682602j,  0.17787277+0.j        ,\n",
       "        -0.07223882-0.1739481j , -0.07223882+0.1739481j ]))"
      ]
     },
     "execution_count": 49,
     "metadata": {},
     "output_type": "execute_result"
    }
   ],
   "source": [
    "Z = np.linalg.inv(sw).dot(sb)\n",
    "values, vectors = np.linalg.eig(Z)\n",
    "\n",
    "values[0], vectors[0]"
   ]
  },
  {
   "cell_type": "code",
   "execution_count": 50,
   "metadata": {},
   "outputs": [
    {
     "data": {
      "text/plain": [
       "array([  2.13705648e+01 +0.00000000e+00j,\n",
       "         2.71853214e-07 +0.00000000e+00j,\n",
       "        -2.83402811e-09 +0.00000000e+00j,\n",
       "         4.10352591e-10 +0.00000000e+00j,\n",
       "         1.95874562e-10 +0.00000000e+00j,\n",
       "        -7.72415551e-12 +0.00000000e+00j,\n",
       "         7.55818079e-12 +0.00000000e+00j,\n",
       "         2.44163913e-12 +0.00000000e+00j,\n",
       "        -4.53558991e-13 +1.82919948e-12j,\n",
       "        -4.53558991e-13 -1.82919948e-12j,\n",
       "         1.38525247e-12 +0.00000000e+00j,\n",
       "        -8.63867303e-13 +0.00000000e+00j,\n",
       "        -4.93116195e-13 +2.05360231e-13j,\n",
       "        -4.93116195e-13 -2.05360231e-13j,\n",
       "         5.11403918e-13 +0.00000000e+00j,\n",
       "        -1.22485700e-13 +4.15172048e-13j,\n",
       "        -1.22485700e-13 -4.15172048e-13j,\n",
       "         1.98800067e-14 +2.50618343e-13j,\n",
       "         1.98800067e-14 -2.50618343e-13j,\n",
       "         2.16195685e-13 +0.00000000e+00j,\n",
       "         5.75429094e-14 +7.57319103e-14j,   5.75429094e-14 -7.57319103e-14j])"
      ]
     },
     "execution_count": 50,
     "metadata": {},
     "output_type": "execute_result"
    }
   ],
   "source": [
    "values"
   ]
  },
  {
   "cell_type": "markdown",
   "metadata": {},
   "source": [
    "Os autovetores e autovalores deram números *Complexos*. Porém, esses números são muito próximos de 0. Portanto, iremos desconsiderar sua parte imaginária, mantendo **apenas** a parte Real."
   ]
  },
  {
   "cell_type": "code",
   "execution_count": 51,
   "metadata": {},
   "outputs": [
    {
     "data": {
      "text/plain": [
       "(21.370564756313655,\n",
       " array([ 0.00757913, -0.00799738, -0.02553211,  0.0205212 , -0.04387169,\n",
       "         0.03212937,  0.04855825, -0.06365877,  0.00244332,  0.00244332,\n",
       "         0.06551195, -0.12504937, -0.0529478 , -0.0529478 , -0.16683387,\n",
       "        -0.07626539, -0.07626539, -0.03248178, -0.03248178,  0.17787277,\n",
       "        -0.07223882, -0.07223882]))"
      ]
     },
     "execution_count": 51,
     "metadata": {},
     "output_type": "execute_result"
    }
   ],
   "source": [
    "values = np.real(values)\n",
    "vectors = np.real(vectors)\n",
    "values[0], vectors[0]"
   ]
  },
  {
   "cell_type": "markdown",
   "metadata": {},
   "source": [
    "Podemos notar que os autovalores são demasiados pequenos a partir do 1ª. Logo, utilizaremos apenas o 1º primeiro autovetor."
   ]
  },
  {
   "cell_type": "code",
   "execution_count": 52,
   "metadata": {},
   "outputs": [
    {
     "data": {
      "text/plain": [
       "(195, 2)"
      ]
     },
     "execution_count": 52,
     "metadata": {},
     "output_type": "execute_result"
    }
   ],
   "source": [
    "lda_vectors = vectors[:,:1]\n",
    "lda_vectors.shape\n",
    "\n",
    "data = np.c_[np.matmul(data[:,:-1],lda_vectors), data[:,-1]]\n",
    "data.shape"
   ]
  },
  {
   "cell_type": "markdown",
   "metadata": {},
   "source": [
    "Com os dados transformados, podemos executar novamente os experimentos, obtendo as seguintes informações sobre as acurácias:"
   ]
  },
  {
   "cell_type": "code",
   "execution_count": 53,
   "metadata": {},
   "outputs": [
    {
     "data": {
      "text/html": [
       "<div>\n",
       "<style>\n",
       "    .dataframe thead tr:only-child th {\n",
       "        text-align: right;\n",
       "    }\n",
       "\n",
       "    .dataframe thead th {\n",
       "        text-align: left;\n",
       "    }\n",
       "\n",
       "    .dataframe tbody tr th {\n",
       "        vertical-align: top;\n",
       "    }\n",
       "</style>\n",
       "<table border=\"1\" class=\"dataframe\">\n",
       "  <thead>\n",
       "    <tr style=\"text-align: right;\">\n",
       "      <th></th>\n",
       "      <th>1 - Alg</th>\n",
       "      <th>2 - Média(%)</th>\n",
       "      <th>3 - Mediana(%)</th>\n",
       "      <th>4 - Min/Max(%)</th>\n",
       "      <th>5 - Desv. Pad.(%)</th>\n",
       "    </tr>\n",
       "  </thead>\n",
       "  <tbody>\n",
       "    <tr>\n",
       "      <th>0</th>\n",
       "      <td>NB</td>\n",
       "      <td>91.3</td>\n",
       "      <td>91.0</td>\n",
       "      <td>79.5 / 100.0</td>\n",
       "      <td>4.1</td>\n",
       "    </tr>\n",
       "    <tr>\n",
       "      <th>1</th>\n",
       "      <td>CQ(P)</td>\n",
       "      <td>84.6</td>\n",
       "      <td>84.6</td>\n",
       "      <td>69.2 / 97.4</td>\n",
       "      <td>5.2</td>\n",
       "    </tr>\n",
       "    <tr>\n",
       "      <th>2</th>\n",
       "      <td>CQG(P)</td>\n",
       "      <td>91.3</td>\n",
       "      <td>91.0</td>\n",
       "      <td>79.5 / 100.0</td>\n",
       "      <td>4.1</td>\n",
       "    </tr>\n",
       "    <tr>\n",
       "      <th>3</th>\n",
       "      <td>CQ(F)</td>\n",
       "      <td>84.6</td>\n",
       "      <td>84.6</td>\n",
       "      <td>69.2 / 97.4</td>\n",
       "      <td>5.2</td>\n",
       "    </tr>\n",
       "    <tr>\n",
       "      <th>4</th>\n",
       "      <td>CQG(F)</td>\n",
       "      <td>91.3</td>\n",
       "      <td>91.0</td>\n",
       "      <td>79.5 / 100.0</td>\n",
       "      <td>4.1</td>\n",
       "    </tr>\n",
       "    <tr>\n",
       "      <th>5</th>\n",
       "      <td>DMC</td>\n",
       "      <td>85.8</td>\n",
       "      <td>84.6</td>\n",
       "      <td>71.8 / 97.4</td>\n",
       "      <td>4.8</td>\n",
       "    </tr>\n",
       "    <tr>\n",
       "      <th>6</th>\n",
       "      <td>KNN(k=11)</td>\n",
       "      <td>91.1</td>\n",
       "      <td>92.3</td>\n",
       "      <td>79.5 / 100.0</td>\n",
       "      <td>4.2</td>\n",
       "    </tr>\n",
       "    <tr>\n",
       "      <th>7</th>\n",
       "      <td>NN</td>\n",
       "      <td>85.8</td>\n",
       "      <td>87.2</td>\n",
       "      <td>74.4 / 97.4</td>\n",
       "      <td>5.0</td>\n",
       "    </tr>\n",
       "  </tbody>\n",
       "</table>\n",
       "</div>"
      ],
      "text/plain": [
       "     1 - Alg  2 - Média(%)  3 - Mediana(%) 4 - Min/Max(%)  5 - Desv. Pad.(%)\n",
       "0         NB          91.3            91.0   79.5 / 100.0                4.1\n",
       "1      CQ(P)          84.6            84.6    69.2 / 97.4                5.2\n",
       "2     CQG(P)          91.3            91.0   79.5 / 100.0                4.1\n",
       "3      CQ(F)          84.6            84.6    69.2 / 97.4                5.2\n",
       "4     CQG(F)          91.3            91.0   79.5 / 100.0                4.1\n",
       "5        DMC          85.8            84.6    71.8 / 97.4                4.8\n",
       "6  KNN(k=11)          91.1            92.3   79.5 / 100.0                4.2\n",
       "7         NN          85.8            87.2    74.4 / 97.4                5.0"
      ]
     },
     "execution_count": 53,
     "metadata": {},
     "output_type": "execute_result"
    }
   ],
   "source": [
    "acc_df, metrics_df = run_experiments(data,experiments_indices)\n",
    "acc_df"
   ]
  },
  {
   "cell_type": "markdown",
   "metadata": {},
   "source": [
    "Obtemos, também, as seguintes métricas:"
   ]
  },
  {
   "cell_type": "code",
   "execution_count": 54,
   "metadata": {},
   "outputs": [
    {
     "data": {
      "text/html": [
       "<div>\n",
       "<style>\n",
       "    .dataframe thead tr:only-child th {\n",
       "        text-align: right;\n",
       "    }\n",
       "\n",
       "    .dataframe thead th {\n",
       "        text-align: left;\n",
       "    }\n",
       "\n",
       "    .dataframe tbody tr th {\n",
       "        vertical-align: top;\n",
       "    }\n",
       "</style>\n",
       "<table border=\"1\" class=\"dataframe\">\n",
       "  <thead>\n",
       "    <tr style=\"text-align: right;\">\n",
       "      <th></th>\n",
       "      <th>1 - Alg</th>\n",
       "      <th>6 - Sensibilidade(%)</th>\n",
       "      <th>7 - Especificidade(%)</th>\n",
       "      <th>8 - Precisão(%)</th>\n",
       "    </tr>\n",
       "  </thead>\n",
       "  <tbody>\n",
       "    <tr>\n",
       "      <th>0</th>\n",
       "      <td>NB</td>\n",
       "      <td>97.4</td>\n",
       "      <td>73.1</td>\n",
       "      <td>91.6</td>\n",
       "    </tr>\n",
       "    <tr>\n",
       "      <th>1</th>\n",
       "      <td>CQ(P)</td>\n",
       "      <td>85.2</td>\n",
       "      <td>82.8</td>\n",
       "      <td>93.8</td>\n",
       "    </tr>\n",
       "    <tr>\n",
       "      <th>2</th>\n",
       "      <td>CQG(P)</td>\n",
       "      <td>97.4</td>\n",
       "      <td>73.1</td>\n",
       "      <td>91.6</td>\n",
       "    </tr>\n",
       "    <tr>\n",
       "      <th>3</th>\n",
       "      <td>CQ(F)</td>\n",
       "      <td>85.2</td>\n",
       "      <td>82.8</td>\n",
       "      <td>93.8</td>\n",
       "    </tr>\n",
       "    <tr>\n",
       "      <th>4</th>\n",
       "      <td>CQG(F)</td>\n",
       "      <td>97.4</td>\n",
       "      <td>73.1</td>\n",
       "      <td>91.6</td>\n",
       "    </tr>\n",
       "    <tr>\n",
       "      <th>5</th>\n",
       "      <td>DMC</td>\n",
       "      <td>88.2</td>\n",
       "      <td>79.0</td>\n",
       "      <td>92.7</td>\n",
       "    </tr>\n",
       "    <tr>\n",
       "      <th>6</th>\n",
       "      <td>KNN(k=11)</td>\n",
       "      <td>97.8</td>\n",
       "      <td>71.0</td>\n",
       "      <td>91.1</td>\n",
       "    </tr>\n",
       "    <tr>\n",
       "      <th>7</th>\n",
       "      <td>NN</td>\n",
       "      <td>90.2</td>\n",
       "      <td>73.4</td>\n",
       "      <td>91.0</td>\n",
       "    </tr>\n",
       "  </tbody>\n",
       "</table>\n",
       "</div>"
      ],
      "text/plain": [
       "     1 - Alg  6 - Sensibilidade(%)  7 - Especificidade(%)  8 - Precisão(%)\n",
       "0         NB                  97.4                   73.1             91.6\n",
       "1      CQ(P)                  85.2                   82.8             93.8\n",
       "2     CQG(P)                  97.4                   73.1             91.6\n",
       "3      CQ(F)                  85.2                   82.8             93.8\n",
       "4     CQG(F)                  97.4                   73.1             91.6\n",
       "5        DMC                  88.2                   79.0             92.7\n",
       "6  KNN(k=11)                  97.8                   71.0             91.1\n",
       "7         NN                  90.2                   73.4             91.0"
      ]
     },
     "execution_count": 54,
     "metadata": {},
     "output_type": "execute_result"
    }
   ],
   "source": [
    "metrics_df"
   ]
  },
  {
   "cell_type": "markdown",
   "metadata": {},
   "source": [
    "Analisando as tabelas dos experimentos, podemos dizer que:\n",
    "* O CQG(F) e CQG(P) tiveram o melhor desempenho médio, seguido do KNN. Vale notar que tanto a abordagem de Friedman quando a de Covariância Agregada deram  omesmo valor pois a matriz de covariância possui apenas 1 valor;\n",
    "* O KNN, CQG(F) e CQG(P) tiveram resultados mais constantes, possuindo menor desvio padrão;\n",
    "* O KNN foi o mais sensível, seguido por NB e CQG(F e P);\n",
    "* O CQ(F e P) foram os mais específicos;\n",
    "* O CQG(F e P) foi o mais preciso.\n",
    "\n",
    "Utilizando o LDA, obtivemos, em termos de acurácia, um melhor resultado para o KNN, chegando a 89.2%, utilizando apenas 3 colunas."
   ]
  },
  {
   "cell_type": "markdown",
   "metadata": {},
   "source": [
    "# Conclusões\n",
    "---\n",
    "\n",
    "Analisando as abordagens, como lidamos com um cenário médico, precisamos\n",
    "de altos valores de sensibilidade e especificidade(sendo o primeiro mais\n",
    "importante, uma vez que falsos negativos são muito prejudiciais). O NN\n",
    "se apresentou como uma ótima escolha dentre os experimentos, porém ele\n",
    "possui uma baixa especificidade nos dados originais. Com o LDA, obtivemos melhor desempenho nos classificadores CQG e NB, alcançando a melhor sensibilidade média, além de não termos problemas com a matriz de covariância, a qual é 1x1.\n",
    "\n",
    "Portanto, visto os experimentos, podemos tirar uma conclusão preliminar de que o CQG com LDA usando 1 dimensão é a melhor abordagem, tanto em eficiência quanto em uso de memória e processamento. Porém, outros classificadores mais robustos merecem ser estudados, além de se refazer os experimentos com maiores conjuntos de dados e, se possível, mais balanceados."
   ]
  }
 ],
 "metadata": {
  "kernelspec": {
   "display_name": "Python 3",
   "language": "python",
   "name": "python3"
  },
  "language_info": {
   "codemirror_mode": {
    "name": "ipython",
    "version": 3
   },
   "file_extension": ".py",
   "mimetype": "text/x-python",
   "name": "python",
   "nbconvert_exporter": "python",
   "pygments_lexer": "ipython3",
   "version": "3.6.1"
  }
 },
 "nbformat": 4,
 "nbformat_minor": 2
}
