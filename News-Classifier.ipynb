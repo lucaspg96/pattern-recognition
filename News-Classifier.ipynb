{
 "cells": [
  {
   "cell_type": "markdown",
   "metadata": {},
   "source": [
    "# Classificador de notícias"
   ]
  },
  {
   "cell_type": "code",
   "execution_count": 1,
   "metadata": {},
   "outputs": [],
   "source": [
    "%matplotlib inline\n",
    "import numpy as np\n",
    "import pandas as pd\n",
    "import math\n",
    "from algorithms import utils as ut\n",
    "\n",
    "#Imports nltk ---------------------------------------------\n",
    "import nltk\n",
    "from nltk.stem.snowball import SnowballStemmer\n",
    "\n",
    "#Imports sklearn ------------------------------------------\n",
    "\n",
    "#tfidf\n",
    "from sklearn.feature_extraction.text import TfidfTransformer\n",
    "from sklearn.feature_extraction.text import CountVectorizer\n",
    "\n",
    "# #naive bayes\n",
    "from sklearn.naive_bayes import GaussianNB\n",
    "from sklearn.naive_bayes import MultinomialNB\n",
    "from sklearn.naive_bayes import BernoulliNB\n",
    "\n",
    "# #regressão logística\n",
    "from sklearn.linear_model import LogisticRegression\n",
    "\n",
    "\n",
    "from algorithms.NearestNeighbors import ClusterNNClassifier, KNNClassifier"
   ]
  },
  {
   "cell_type": "markdown",
   "metadata": {},
   "source": [
    "### Importando stopwords e stemmer"
   ]
  },
  {
   "cell_type": "code",
   "execution_count": 2,
   "metadata": {
    "collapsed": true
   },
   "outputs": [],
   "source": [
    "stemmer = SnowballStemmer('portuguese')\n",
    "stopwords = nltk.corpus.stopwords.words('portuguese')"
   ]
  },
  {
   "cell_type": "markdown",
   "metadata": {},
   "source": [
    "### Importando notícias"
   ]
  },
  {
   "cell_type": "code",
   "execution_count": 3,
   "metadata": {},
   "outputs": [
    {
     "data": {
      "image/png": "[encoded data removed]",
      "text/plain": [
       "<matplotlib.figure.Figure at 0x111c74d68>"
      ]
     },
     "metadata": {},
     "output_type": "display_data"
    }
   ],
   "source": [
    "# news,labels = ut.load_xml_news(\"datasets/news_data.xml\", plot=True)\n",
    "news,labels = ut.load_articles(\"/Users/lucasperes/notebooks/articles-filtered-200.tsv\",plot=True)"
   ]
  },
  {
   "cell_type": "markdown",
   "metadata": {},
   "source": [
    "## Análise dos atributos das notícias\n",
    "\n",
    "Através do histograma acima, podemos analizar que todas as notícias possuem data(when), link, imagem e título.\n",
    "\n",
    "* Imagem e link não são interpretáveis para o nosso problema, logo não compensa que coloquemos estes atributos em nosso classificador;\n",
    "* Data(when) e data de publicação, embora sejam interpretáveis, é provável que não acrescentem nenhuma informação relevante para nossa classificação;\n",
    "* Texto, título e descrição podem ser bastante úteis em nosso problema, embora o título, devido a sua natureza mais interativa para chamar a atenção, possa atrapalhar nos cálculos, portanto, colocaremos ele de fora da classificação."
   ]
  },
  {
   "cell_type": "markdown",
   "metadata": {},
   "source": [
    "## Iniciando pré-processamento\n",
    "\n",
    "### Processando notícias"
   ]
  },
  {
   "cell_type": "code",
   "execution_count": 4,
   "metadata": {},
   "outputs": [
    {
     "data": {
      "text/plain": [
       "('Com a possibilidade de uma condenação impedir sua candidatura em 2018, o ex-presidente Luiz Inácio Lula da Silva fez, nesta segunda (9), um discurso inflamado contra a Lava Jato, no qual disse saber que está \"lascado\", exigiu um pedido de desculpas do juiz Sergio Moro e afirmou que, mesmo fora da disputa pelo Planalto, será um cabo eleitoral expressivo para a sucessão de Michel Temer.  Segundo o petista, réu em sete ações penais, o objetivo de Moro é impedir sua candidatura no ano que vem, desidratando-o, inclusive, no apoio a um nome alternativo, como o do ex-prefeito de São Paulo Fernando Haddad (PT), caso ele não possa concorrer à Presidência.  \"Eu sei que tô lascado, todo dia tem um processo. Eu não quero nem que Moro me absolva, eu só quero que ele peça desculpas\", disse Lula durante um seminário sobre educação em Brasília. \"Eles [investigadores] chegam a dizer: \\'Ah, se o Lula não for candidato, ele não vai ter força como cabo eleitoral\\'. Testem\", completou o petista.  Para o ex-presidente, Moro usou \"mentiras contadas pela Polícia Federal e pelo Ministério Público\" para julgá-lo e condená-lo a nove anos e seis meses de prisão pelo caso do tríplex em Guarujá (SP).  O ex-presidente disse ainda não ter \"medo\" dos investigadores que, de acordo com ele, estão acostumados a \"mexer com deputados e senadores\" que temem as apurações.  \"Eu quero que eles saibam o seguinte: se eles estão acostumados a lidar com deputado que tem medo deles, a mexer com senadores que têm medo deles, quero dizer que tenho respeito profundo por quem me respeita, pelas leis que nós ajudamos a criar, mas não tenho respeito por quem não me respeita e eles não me respeitaram\", afirmou o petista.    De acordo com aliados, Lula não gosta de discutir, mesmo que nos bastidores, a chance de não ser candidato ao Planalto e a projeção do nome de Haddad como plano B do PT tem incomodado os mais próximos ao ex-presidente. O ex-prefeito, que estava no evento nesta segunda, fez um discurso rápido, de menos de dez minutos, em que encerrou dizendo esperar que Lula assuma a Presidência em 2019.  \"Espero que dia 1º de janeiro de 2019 esse pesadelo chamado Temer acabe e o senhor assuma a Presidência da República\", disse Haddad.  \\'DEMÔNIO DO MERCADO\\'  Lula voltou a fazer um discurso mais agressivo em relação ao mercado e disse que \"não tem cara de demônio\", mas quer que o respeitem \"como se fosse\".  \"Não tenho cara de demônio, mas quero que eles me respeitem como se eu fosse, porque eles sabem que a economia não vai ficar subordinada ao elitismo da sociedade brasileira\", disse o ex-presidente.  O petista rivalizou ainda com o deputado Jair Bolsonaro (PSC-RJ), segundo colocado nas últimas pesquisas empatado com Marina Silva, e disse que se ele \"agrada ao mercado\", o PT tem que \"desagradar\".  A Folha publicou nesta segunda (9) reportagem em que mostrou que o deputado ensaia movimento ao centro no debate econômico, adotando um discurso simpático aos investidores do mercado financeiro.',\n",
       " 'poder')"
      ]
     },
     "execution_count": 4,
     "metadata": {},
     "output_type": "execute_result"
    }
   ],
   "source": [
    "news[0], labels[0]"
   ]
  },
  {
   "cell_type": "code",
   "execution_count": 5,
   "metadata": {
    "collapsed": true
   },
   "outputs": [],
   "source": [
    "#Removendo stopwords,\"tokenizando\", aplicando stemmer e removendo caracteres indesejáveis\n",
    "undesired = [',','.',\"'\",'\"','´','`',';',':','-','?','!','%','(',')','\\t','\\n']\n",
    "data_processed = []\n",
    "for k in news:\n",
    "    tokenizedText = nltk.word_tokenize(k,language='portuguese')\n",
    "    stemmedText = [stemmer.stem(t) for t in tokenizedText if t not in stopwords and not t in undesired]\n",
    "    data_processed.append(stemmedText)"
   ]
  },
  {
   "cell_type": "code",
   "execution_count": 6,
   "metadata": {},
   "outputs": [
    {
     "data": {
      "text/plain": [
       "(\"com possibil conden imped candidatur 2018 ex-president luiz ináci lul silv fez nest segund 9 discurs inflam contr lav jat diss sab `` lasc '' exig ped desculp juiz sergi mor afirm disput planalt cab eleitoral express sucessã michel tem segund petist réu set açõ pen objet mor é imped candidatur ano vem desidratando- inclusiv apoi nom altern ex-prefeit sã paul fern haddad pt cas poss concorr president `` eu sei tô lasc tod dia process eu quer mor absolv quer pec desculp '' diss lul durant seminári sobr educ brasíl `` eles [ investig ] cheg diz 'ah lul candidat vai ter forc cab eleitoral test '' complet petist par ex-president mor usou `` ment cont políc federal ministéri públic '' julgá-l condená-l nov anos seis mes prisã cas tríplex guaruj sp o ex-president diss aind ter `` med '' investig acord acostum `` mex deput senador '' tem apur `` eu quer saib seguint acostum lid deput med mex senador têm med quer diz respeit profund respeit leis ajud cri respeit respeit respeit '' afirm petist de acord ali lul gost discut bastidor chanc ser candidat planalt projeçã nom haddad plan b pt incomod próx ex-president o ex-prefeit event nest segund fez discurs ráp men dez minut encerr diz esper lul assum president 2019 `` esper dia 1º janeir 2019 pesadel cham tem acab senhor assum president repúbl '' diss haddad 'demôni do merc lul volt faz discurs agress relaçã merc diss `` car demôni '' quer respeit `` '' `` nã car demôni quer respeit porqu sab econom vai fic subordin elit sociedad brasileir '' diss ex-president o petist rivaliz aind deput jair bolsonar psc-rj segund coloc últim pesquis empat marin silv diss `` agrad merc '' pt `` desagrad '' a folh public nest segund 9 reportag mostr deput ensa moviment centr debat econôm adot discurs simpát investidor merc financeir\",\n",
       " 'poder')"
      ]
     },
     "execution_count": 6,
     "metadata": {},
     "output_type": "execute_result"
    }
   ],
   "source": [
    "#Reescrevendo noticias\n",
    "new_data = []\n",
    "for data in data_processed:\n",
    "    new_data.append(\" \".join(data))\n",
    "\n",
    "data_processed = new_data\n",
    "\n",
    "data_processed[0],labels[0]"
   ]
  },
  {
   "cell_type": "markdown",
   "metadata": {},
   "source": [
    "## Iniciando classificação"
   ]
  },
  {
   "cell_type": "markdown",
   "metadata": {},
   "source": [
    "### Preparando dados para classificação"
   ]
  },
  {
   "cell_type": "code",
   "execution_count": 7,
   "metadata": {
    "collapsed": true
   },
   "outputs": [],
   "source": [
    "#Permutação dos dados\n",
    "temp = np.column_stack((data_processed,labels))\n",
    "temp = np.random.permutation(temp)\n",
    "data_processed = temp[:,0]\n",
    "labels = temp[:,1]"
   ]
  },
  {
   "cell_type": "markdown",
   "metadata": {},
   "source": [
    "### Gerando matrizes dos dados"
   ]
  },
  {
   "cell_type": "code",
   "execution_count": 8,
   "metadata": {},
   "outputs": [
    {
     "name": "stdout",
     "output_type": "stream",
     "text": [
      "Total de tokens: 1200\n"
     ]
    }
   ],
   "source": [
    "cv = CountVectorizer()\n",
    "\n",
    "X_counts = cv.fit_transform(data_processed)\n",
    "tf_transformer = TfidfTransformer(use_idf=True).fit(X_counts)\n",
    "text_tf = tf_transformer.transform(X_counts)\n",
    "\n",
    "print(\"Total de tokens: {}\".format(text_tf.shape[0]))"
   ]
  },
  {
   "cell_type": "markdown",
   "metadata": {},
   "source": [
    "### Separando features de treino e teste"
   ]
  },
  {
   "cell_type": "code",
   "execution_count": 9,
   "metadata": {
    "collapsed": true
   },
   "outputs": [],
   "source": [
    "#Separação das labels de treino e teste\n",
    "p = 0.8\n",
    "size = len(data_processed)\n",
    "partition = math.floor(size*p)\n",
    "\n",
    "trainLabels = labels[:partition]\n",
    "trainText = text_tf[:partition]\n",
    "\n",
    "testText = text_tf[partition:]\n",
    "testLabels = labels[partition:]"
   ]
  },
  {
   "cell_type": "markdown",
   "metadata": {},
   "source": [
    "### Classificando"
   ]
  },
  {
   "cell_type": "code",
   "execution_count": 10,
   "metadata": {},
   "outputs": [
    {
     "name": "stdout",
     "output_type": "stream",
     "text": [
      "Gaussian Naive Bayes score: 87.08333333333333%\n",
      "Multinomial Naive Bayes score: 96.25%\n",
      "Bernoulli Naive Bayes score: 89.16666666666667%\n",
      "Nearest Centroid Classifier score: 91.66666666666666%\n",
      "Logistic Regression Classifier(alpha = 0.5) score: 96.25%\n"
     ]
    }
   ],
   "source": [
    "try:\n",
    "    trainText = trainText.toarray()\n",
    "    testText = testText.toarray()\n",
    "    \n",
    "except Exception:\n",
    "    pass\n",
    "    \n",
    "models = {\n",
    "    \"Gaussian Naive Bayes\": GaussianNB(),\n",
    "    \"Multinomial Naive Bayes\": MultinomialNB(),\n",
    "    \"Bernoulli Naive Bayes\": BernoulliNB(),\n",
    "    \"Nearest Centroid Classifier\": ClusterNNClassifier(),\n",
    "#     \"KNN(k=11)\": KNNClassifier(k=11),\n",
    "    \"Logistic Regression Classifier(alpha = 0.5)\": LogisticRegression(C=.5)\n",
    "}\n",
    "\n",
    "for name in models:\n",
    "    model = models[name]\n",
    "    model.fit(trainText,trainLabels)\n",
    "    print(\"{} score: {}%\".format(name,model.score(testText,testLabels)*100))"
   ]
  },
  {
   "cell_type": "code",
   "execution_count": 11,
   "metadata": {
    "collapsed": true
   },
   "outputs": [],
   "source": [
    "def process_new(new):\n",
    "    tokenizedText = nltk.word_tokenize(new)\n",
    "    stemmedText = [stemmer.stem(t) for t in tokenizedText if t not in stopwords]\n",
    "\n",
    "    text = [word for word in stemmedText if not word in undesired]\n",
    "    text = \" \".join(text)\n",
    "    cv_text = cv.transform([text])\n",
    "    \n",
    "    return tf_transformer.transform(cv_text)\n",
    "\n",
    "def classify_new(new):\n",
    "    processed_new = process_new(new).toarray()\n",
    "    \n",
    "    for name in models:\n",
    "        model = models[name]\n",
    "        y = model.predict(processed_new)\n",
    "        \n",
    "        if not type(y) == \"str\":\n",
    "            y = y[0]\n",
    "        \n",
    "        print(\"{}: {}\".format(name,y))"
   ]
  },
  {
   "cell_type": "markdown",
   "metadata": {},
   "source": [
    "### Teste com uma notícia"
   ]
  },
  {
   "cell_type": "code",
   "execution_count": 12,
   "metadata": {},
   "outputs": [
    {
     "name": "stdout",
     "output_type": "stream",
     "text": [
      "Gaussian Naive Bayes: esporte\n",
      "Multinomial Naive Bayes: esporte\n",
      "Bernoulli Naive Bayes: esporte\n",
      "Nearest Centroid Classifier: e\n",
      "Logistic Regression Classifier(alpha = 0.5): esporte\n"
     ]
    }
   ],
   "source": [
    "new = \"A rodada deste fim de semana ainda não confirmou o título do Corinthians, que segue com mais de 99% de chance de conquista, contra menos de 1% do Atlético Mineiro segundo o site Infobola, do matemático Tristão Garcia. Para o Galo, o triunfo sofre o Figueirense, com um gol no finzinho, além de manter a chance matemática de título para os mineiros, também confirmou o time com uma das vagas para a Libertadores. Para as vagas que restam para a competição sul-americana, o Grêmio, embora derrotado pelo Sport, segue bem tranquilo. Só uma catástrofe tira o time gaúcho da vaga 3 e por isso suas chances estão em 96%. Daí para a frente, a coisa embola um pouco. A rodada fez o leque de possibilidades se ampliar. Um exemplo é que o Flamengo saiu do traço e voltou a ter uma pequena chance após a sua vitória e os resultados dos rivais. Afinal, quem estava bem à frente não venceu. Santos, São Paulo e Internacional seguem bem cotados. O Sport (que tem uma tabela bem complicada e por isso está com apenas 7%) precisa de mais um bom resultado na próxima rodada para se aproximar da trinca. Ponte Preta, Palmeiras, Cruzeiro e o Rubro-Negro (que respira graças ao seu bom número de vitórias que lhe dará vantagem caso empate em pontos contra qualquer um dos demais concorrentes) respiram por aparelho. Na turma que tenta escapar da degola, o Vasco segue construindo notável reação. Embora ainda apareça com 84% de possibilidade de rebaixamento, o Cruz-Maltino conseguiu resultado pouco esperado, a vitória sobre o Palmeiras fora de casa, e pode dar um supersalto rumo à salvação já na próxima rodada quando ocorrem dois jogos de rivais diretos pelo rebaixamento: Goiás x Coritiba e Avaí x Joinville. Olho vivo no Figueirense. A série de resultados ruins fez o time encostar muito no bolo dos desesperados. Já a Chapecoense, com a vitória sobre o Fluminense, se despediu dessa briga.\"\n",
    "\n",
    "classify_new(new)"
   ]
  },
  {
   "cell_type": "markdown",
   "metadata": {},
   "source": [
    "### Quem sabe faz ao vivo!"
   ]
  },
  {
   "cell_type": "code",
   "execution_count": 13,
   "metadata": {},
   "outputs": [],
   "source": [
    "# new = \"\"\"\n",
    "\n",
    "# \"\"\"\n",
    "\n",
    "# classify_new(new)"
   ]
  },
  {
   "cell_type": "markdown",
   "metadata": {},
   "source": [
    "### Classificando outro dataset"
   ]
  },
  {
   "cell_type": "code",
   "execution_count": 14,
   "metadata": {},
   "outputs": [],
   "source": [
    "trained_labels = list(set(trainLabels))\n",
    "news, labels = ut.load_xml_news(\"datasets/news_data.xml\", plot=False)\n",
    "labels = np.array(labels)\n",
    "labels[labels==\"economia\"] = \"mercado\"\n",
    "labels[labels==\"política\"] = \"poder\"\n",
    "labels[labels==\"tecnologia\"] = \"tec\"\n",
    "\n",
    "bool_array = np.array([l in trained_labels for l in labels])\n",
    "\n",
    "news = list(np.array(news)[bool_array])\n",
    "news = [process_new(new).toarray() for new in news]\n",
    "\n",
    "labels = labels[bool_array]"
   ]
  },
  {
   "cell_type": "code",
   "execution_count": 15,
   "metadata": {},
   "outputs": [
    {
     "name": "stdout",
     "output_type": "stream",
     "text": [
      "Gaussian Naive Bayes: 63.945086705202314%\n",
      "Multinomial Naive Bayes: 85.26011560693641%\n",
      "Bernoulli Naive Bayes: 70.52023121387283%\n",
      "Nearest Centroid Classifier: 0.0%\n",
      "Logistic Regression Classifier(alpha = 0.5): 83.52601156069365%\n"
     ]
    }
   ],
   "source": [
    "n = len(news)\n",
    "\n",
    "for name in models:\n",
    "    model = models[name]\n",
    "    score = 0\n",
    "    for new, label in zip(news,labels):\n",
    "        y = model.predict(new) \n",
    "        if not type(y) == \"str\":\n",
    "            y = y[0]\n",
    "        \n",
    "        if y == label:\n",
    "            score += 1\n",
    "    \n",
    "    print(\"{}: {}%\".format(name,score*100/n))"
   ]
  }
 ],
 "metadata": {
  "kernelspec": {
   "display_name": "Python 3",
   "language": "python",
   "name": "python3"
  },
  "language_info": {
   "codemirror_mode": {
    "name": "ipython",
    "version": 3
   },
   "file_extension": ".py",
   "mimetype": "text/x-python",
   "name": "python",
   "nbconvert_exporter": "python",
   "pygments_lexer": "ipython3",
   "version": "3.6.1"
  }
 },
 "nbformat": 4,
 "nbformat_minor": 1
}
