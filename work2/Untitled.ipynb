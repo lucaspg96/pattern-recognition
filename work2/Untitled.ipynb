{
 "cells": [
  {
   "cell_type": "code",
   "execution_count": 1,
   "metadata": {},
   "outputs": [],
   "source": [
    "import sys\n",
    "sys.path.append('../')\n",
    "import numpy as np\n",
    "import pandas as pd\n",
    "\n",
    "from algorithms.utils import train_test_split\n",
    "\n",
    "from algorithms.ConfusionMatrix import ConfusionMatrix\n",
    "\n",
    "from algorithms.Gaussian import QuadraticGaussianClassifier, NormalNaiveBayes\n",
    "from algorithms.NearestNeighbors import NearestCentroidClassifier, KNNClassifier, NNClassifier\n",
    "from algorithms.Quadratic import QuadraticClassifier\n",
    "\n",
    "import logging\n",
    "\n",
    "logging.basicConfig(format='%(asctime)s - %(name)s - %(levelname)s - %(message)s')\n",
    "logger = logging.getLogger()\n",
    "logger.setLevel(logging.DEBUG)"
   ]
  },
  {
   "cell_type": "code",
   "execution_count": 2,
   "metadata": {},
   "outputs": [
    {
     "data": {
      "text/html": [
       "<div>\n",
       "<style scoped>\n",
       "    .dataframe tbody tr th:only-of-type {\n",
       "        vertical-align: middle;\n",
       "    }\n",
       "\n",
       "    .dataframe tbody tr th {\n",
       "        vertical-align: top;\n",
       "    }\n",
       "\n",
       "    .dataframe thead th {\n",
       "        text-align: right;\n",
       "    }\n",
       "</style>\n",
       "<table border=\"1\" class=\"dataframe\">\n",
       "  <thead>\n",
       "    <tr style=\"text-align: right;\">\n",
       "      <th></th>\n",
       "      <th>ID</th>\n",
       "      <th>X1</th>\n",
       "      <th>X2</th>\n",
       "      <th>X3</th>\n",
       "      <th>X4</th>\n",
       "      <th>X5</th>\n",
       "      <th>X6</th>\n",
       "      <th>X7</th>\n",
       "      <th>X8</th>\n",
       "      <th>X9</th>\n",
       "      <th>...</th>\n",
       "      <th>X15</th>\n",
       "      <th>X16</th>\n",
       "      <th>X17</th>\n",
       "      <th>X18</th>\n",
       "      <th>X19</th>\n",
       "      <th>X20</th>\n",
       "      <th>X21</th>\n",
       "      <th>X22</th>\n",
       "      <th>X23</th>\n",
       "      <th>Y</th>\n",
       "    </tr>\n",
       "  </thead>\n",
       "  <tbody>\n",
       "    <tr>\n",
       "      <th>0</th>\n",
       "      <td>1</td>\n",
       "      <td>20000</td>\n",
       "      <td>2</td>\n",
       "      <td>2</td>\n",
       "      <td>1</td>\n",
       "      <td>24</td>\n",
       "      <td>2</td>\n",
       "      <td>2</td>\n",
       "      <td>-1</td>\n",
       "      <td>-1</td>\n",
       "      <td>...</td>\n",
       "      <td>0</td>\n",
       "      <td>0</td>\n",
       "      <td>0</td>\n",
       "      <td>0</td>\n",
       "      <td>689</td>\n",
       "      <td>0</td>\n",
       "      <td>0</td>\n",
       "      <td>0</td>\n",
       "      <td>0</td>\n",
       "      <td>1</td>\n",
       "    </tr>\n",
       "    <tr>\n",
       "      <th>1</th>\n",
       "      <td>2</td>\n",
       "      <td>120000</td>\n",
       "      <td>2</td>\n",
       "      <td>2</td>\n",
       "      <td>2</td>\n",
       "      <td>26</td>\n",
       "      <td>-1</td>\n",
       "      <td>2</td>\n",
       "      <td>0</td>\n",
       "      <td>0</td>\n",
       "      <td>...</td>\n",
       "      <td>3272</td>\n",
       "      <td>3455</td>\n",
       "      <td>3261</td>\n",
       "      <td>0</td>\n",
       "      <td>1000</td>\n",
       "      <td>1000</td>\n",
       "      <td>1000</td>\n",
       "      <td>0</td>\n",
       "      <td>2000</td>\n",
       "      <td>1</td>\n",
       "    </tr>\n",
       "    <tr>\n",
       "      <th>2</th>\n",
       "      <td>3</td>\n",
       "      <td>90000</td>\n",
       "      <td>2</td>\n",
       "      <td>2</td>\n",
       "      <td>2</td>\n",
       "      <td>34</td>\n",
       "      <td>0</td>\n",
       "      <td>0</td>\n",
       "      <td>0</td>\n",
       "      <td>0</td>\n",
       "      <td>...</td>\n",
       "      <td>14331</td>\n",
       "      <td>14948</td>\n",
       "      <td>15549</td>\n",
       "      <td>1518</td>\n",
       "      <td>1500</td>\n",
       "      <td>1000</td>\n",
       "      <td>1000</td>\n",
       "      <td>1000</td>\n",
       "      <td>5000</td>\n",
       "      <td>0</td>\n",
       "    </tr>\n",
       "    <tr>\n",
       "      <th>3</th>\n",
       "      <td>4</td>\n",
       "      <td>50000</td>\n",
       "      <td>2</td>\n",
       "      <td>2</td>\n",
       "      <td>1</td>\n",
       "      <td>37</td>\n",
       "      <td>0</td>\n",
       "      <td>0</td>\n",
       "      <td>0</td>\n",
       "      <td>0</td>\n",
       "      <td>...</td>\n",
       "      <td>28314</td>\n",
       "      <td>28959</td>\n",
       "      <td>29547</td>\n",
       "      <td>2000</td>\n",
       "      <td>2019</td>\n",
       "      <td>1200</td>\n",
       "      <td>1100</td>\n",
       "      <td>1069</td>\n",
       "      <td>1000</td>\n",
       "      <td>0</td>\n",
       "    </tr>\n",
       "    <tr>\n",
       "      <th>4</th>\n",
       "      <td>5</td>\n",
       "      <td>50000</td>\n",
       "      <td>1</td>\n",
       "      <td>2</td>\n",
       "      <td>1</td>\n",
       "      <td>57</td>\n",
       "      <td>-1</td>\n",
       "      <td>0</td>\n",
       "      <td>-1</td>\n",
       "      <td>0</td>\n",
       "      <td>...</td>\n",
       "      <td>20940</td>\n",
       "      <td>19146</td>\n",
       "      <td>19131</td>\n",
       "      <td>2000</td>\n",
       "      <td>36681</td>\n",
       "      <td>10000</td>\n",
       "      <td>9000</td>\n",
       "      <td>689</td>\n",
       "      <td>679</td>\n",
       "      <td>0</td>\n",
       "    </tr>\n",
       "  </tbody>\n",
       "</table>\n",
       "<p>5 rows × 25 columns</p>\n",
       "</div>"
      ],
      "text/plain": [
       "   ID      X1  X2  X3  X4  X5  X6  X7  X8  X9 ...    X15    X16    X17   X18  \\\n",
       "0   1   20000   2   2   1  24   2   2  -1  -1 ...      0      0      0     0   \n",
       "1   2  120000   2   2   2  26  -1   2   0   0 ...   3272   3455   3261     0   \n",
       "2   3   90000   2   2   2  34   0   0   0   0 ...  14331  14948  15549  1518   \n",
       "3   4   50000   2   2   1  37   0   0   0   0 ...  28314  28959  29547  2000   \n",
       "4   5   50000   1   2   1  57  -1   0  -1   0 ...  20940  19146  19131  2000   \n",
       "\n",
       "     X19    X20   X21   X22   X23  Y  \n",
       "0    689      0     0     0     0  1  \n",
       "1   1000   1000  1000     0  2000  1  \n",
       "2   1500   1000  1000  1000  5000  0  \n",
       "3   2019   1200  1100  1069  1000  0  \n",
       "4  36681  10000  9000   689   679  0  \n",
       "\n",
       "[5 rows x 25 columns]"
      ]
     },
     "execution_count": 2,
     "metadata": {},
     "output_type": "execute_result"
    }
   ],
   "source": [
    "df = pd.read_csv(\"../datasets/default of credit card clients.csv\", delimiter=',')\n",
    "df.head()"
   ]
  },
  {
   "cell_type": "code",
   "execution_count": 3,
   "metadata": {},
   "outputs": [
    {
     "data": {
      "text/plain": [
       "0    23364\n",
       "1     6636\n",
       "Name: Y, dtype: int64"
      ]
     },
     "execution_count": 3,
     "metadata": {},
     "output_type": "execute_result"
    }
   ],
   "source": [
    "df['Y'].value_counts()"
   ]
  },
  {
   "cell_type": "code",
   "execution_count": 4,
   "metadata": {},
   "outputs": [
    {
     "data": {
      "text/plain": [
       "(30000, 25)"
      ]
     },
     "execution_count": 4,
     "metadata": {},
     "output_type": "execute_result"
    }
   ],
   "source": [
    "data = np.loadtxt(\"../datasets/default of credit card clients.csv\", delimiter=',', skiprows=1)\n",
    "data.shape"
   ]
  },
  {
   "cell_type": "code",
   "execution_count": 5,
   "metadata": {},
   "outputs": [],
   "source": [
    "def run_experiments(data, experiments_indices):\n",
    "    logger.setLevel(logging.CRITICAL)\n",
    "    models = {\n",
    "        \"NB\": NormalNaiveBayes(),\n",
    "        \"CQ(P)\": \n",
    "            QuadraticClassifier(check_invertibility=True,pinv_mode=\"pooled\"),\n",
    "        \"CQG(P)\": \n",
    "            QuadraticGaussianClassifier(check_invertibility=True,pinv_mode=\"pooled\"),\n",
    "        \"CQ(F)\": \n",
    "            QuadraticClassifier(check_invertibility=True,pinv_mode=\"friedman\"),\n",
    "        \"CQG(F)\": \n",
    "            QuadraticGaussianClassifier(check_invertibility=True,pinv_mode=\"friedman\"),\n",
    "        \"DMC\": NearestCentroidClassifier(),\n",
    "        \"KNN(k=11)\": KNNClassifier(k=11),\n",
    "        \"NN\": NNClassifier()\n",
    "    }\n",
    "\n",
    "    acc_results = []\n",
    "    metrics_results = []\n",
    "    for model_name in models:\n",
    "        model = models[model_name]\n",
    "        min_score = 101\n",
    "        max_score = -1\n",
    "\n",
    "        scores = []\n",
    "        sensitivities = []\n",
    "        specificities = []\n",
    "        precisions = []\n",
    "        for indices in experiments_indices:\n",
    "            \n",
    "            train,test = train_test_split(data[indices,:],.8, shuffle=False)\n",
    "            model.fit(train[:,:-1],train[:,-1])\n",
    "\n",
    "            predicted = [model.predict(x) for x in test[:,:-1]]\n",
    "            conf_matrix = ConfusionMatrix(test[:,-1],predicted)\n",
    "\n",
    "            sensitivities.append(conf_matrix.sensitivity())\n",
    "            specificities.append(conf_matrix.specificity())\n",
    "            precisions.append(conf_matrix.precision())\n",
    "\n",
    "            score = conf_matrix.accuracy()\n",
    "            scores.append(score)\n",
    "\n",
    "            if score > max_score:\n",
    "                max_score = score\n",
    "\n",
    "            if score < min_score:\n",
    "                min_score = score\n",
    "\n",
    "        mean = np.mean(scores)\n",
    "        std = np.std(scores)\n",
    "        median = np.median(scores)\n",
    "\n",
    "        acc_results.append({\n",
    "            \"1 - Alg\": model_name,\n",
    "            \"2 - Média(%)\": mean*100,\n",
    "            \"3 - Mediana(%)\": median*100,\n",
    "            \"4 - Min/Max(%)\": \"{:.1f} / {:.1f}\".format(min_score*100,max_score*100),\n",
    "            \"5 - Desv. Pad.(%)\": std*100\n",
    "        })\n",
    "        \n",
    "        metrics_results.append({\n",
    "            \"1 - Alg\": model_name,\n",
    "            \"6 - Sensibilidade(%)\": np.mean(sensitivities)*100,\n",
    "            \"7 - Especificidade(%)\": np.mean(specificities)*100,\n",
    "            \"8 - Precisão(%)\": np.mean(precisions)*100\n",
    "        })\n",
    "\n",
    "    return pd.DataFrame(acc_results).round(1), pd.DataFrame(metrics_results).round(1)"
   ]
  },
  {
   "cell_type": "code",
   "execution_count": null,
   "metadata": {},
   "outputs": [
    {
     "data": {
      "text/plain": [
       "array([ 6006, 10220, 13293, ...,  7152, 19225, 10750])"
      ]
     },
     "execution_count": 6,
     "metadata": {},
     "output_type": "execute_result"
    }
   ],
   "source": [
    "experiments_indices = [np.random.permutation(range(data.shape[0])) for _ in range(100)]\n",
    "experiments_indices[0]"
   ]
  },
  {
   "cell_type": "code",
   "execution_count": null,
   "metadata": {},
   "outputs": [
    {
     "name": "stderr",
     "output_type": "stream",
     "text": [
      "/home/lucaspg/miniconda3/envs/libra/lib/python3.6/site-packages/numpy/linalg/linalg.py:1874: RuntimeWarning: overflow encountered in det\n",
      "  r = _umath_linalg.det(a, signature=signature)\n"
     ]
    }
   ],
   "source": [
    "acc_df, metrics_df = run_experiments(data,experiments_indices)\n",
    "acc_df"
   ]
  },
  {
   "cell_type": "code",
   "execution_count": null,
   "metadata": {},
   "outputs": [],
   "source": [
    "metrics_df"
   ]
  },
  {
   "cell_type": "code",
   "execution_count": null,
   "metadata": {},
   "outputs": [],
   "source": [
    "from sklearn.cluster import KMeans\n",
    "\n",
    "def clusterize_data(data,k):\n",
    "    classes = np.unique(data[:,-1])\n",
    "    n = data.shape[1]\n",
    "    clusterized_data = np.reshape(np.zeros(n),(1,n))\n",
    "    for c in classes:\n",
    "        d = data[data[:,-1]==c]\n",
    "        model = KMeans(n_clusters=k, max_iter = 10)\n",
    "        model.fit(d[:,:-1])\n",
    "        y = np.array([c for _ in range(k)])\n",
    "        clusterized_data = np.append(clusterized_data,np.c_[model.cluster_centers_,y],axis=0)\n",
    "\n",
    "    return clusterized_data[1:,:]"
   ]
  },
  {
   "cell_type": "code",
   "execution_count": null,
   "metadata": {},
   "outputs": [],
   "source": [
    "# data = clusterize_data(data, 1000)\n",
    "# np.savetxt(\"clustered-data-1000.csv\",data,delimiter=',')\n",
    "data = np.loadtxt(\"clustered-data-1000.csv\",delimiter=',')\n",
    "data.shape"
   ]
  },
  {
   "cell_type": "code",
   "execution_count": null,
   "metadata": {},
   "outputs": [],
   "source": [
    "acc_df, metrics_df = run_experiments(data,experiments_indices)\n",
    "acc_df"
   ]
  },
  {
   "cell_type": "code",
   "execution_count": null,
   "metadata": {},
   "outputs": [],
   "source": [
    "metrics_df"
   ]
  }
 ],
 "metadata": {
  "kernelspec": {
   "display_name": "Python 3",
   "language": "python",
   "name": "python3"
  },
  "language_info": {
   "codemirror_mode": {
    "name": "ipython",
    "version": 3
   },
   "file_extension": ".py",
   "mimetype": "text/x-python",
   "name": "python",
   "nbconvert_exporter": "python",
   "pygments_lexer": "ipython3",
   "version": "3.6.4"
  }
 },
 "nbformat": 4,
 "nbformat_minor": 2
}
